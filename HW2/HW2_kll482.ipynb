{
 "cells": [
  {
   "cell_type": "markdown",
   "metadata": {},
   "source": [
    "# Homework 2: Ridge Regression and Gradient Descent\n",
    "\n",
    "Student Name: Kuan-Lin Liu\n",
    "\n",
    "Net ID: kll482"
   ]
  },
  {
   "cell_type": "markdown",
   "metadata": {},
   "source": [
    "## Computing Risk"
   ]
  },
  {
   "cell_type": "markdown",
   "metadata": {},
   "source": [
    "### 1. (a)\n",
    "\n",
    "$E(||\\overrightarrow{X}||^2_2)$\n",
    "\n",
    "$=E(\\sum_{i=1}^{n} X^2_i)$\n",
    "\n",
    "$=\\sum_{i=1}^{n} E(X^2_i)$\n",
    "\n",
    "$=nE(X^2_1)$\n",
    "\n",
    "$=n*\\frac{1}{5}*[(-2)^2+(1)^2+(0)^2+(1)^2+(2)^2]$\n",
    "\n",
    "$=2n$"
   ]
  },
  {
   "cell_type": "markdown",
   "metadata": {},
   "source": [
    "### 1. (b)\n",
    "\n",
    "$E(||\\overrightarrow{X}_\\infty||)$\n",
    "\n",
    "$=E(max|X_i|)$\n",
    "\n",
    "$=Pr(|X_i|=2)*2+Pr(|X_i|=1)\\cdot1$\n",
    "\n",
    "$=(1-(\\frac{3}{5})^n)\\cdot2+((\\frac{3}{5})^n-(\\frac{1}{5})^n)\\cdot1$\n"
   ]
  },
  {
   "cell_type": "markdown",
   "metadata": {},
   "source": [
    "### 1. (c)\n",
    "\n",
    "$Var(X)=E(X^2)-E(X)^2=\\frac{1}{5}((-2)^2+(1)^2+(0)^2+(1)^2+(2)^2)-0=2$\n",
    "\n",
    "$\\sum=\\begin{bmatrix}\n",
    " 2& 0 & 0 & \\cdots & 0\\\\ \n",
    " 0& 2 & 0 & \\cdots & 0\\\\ \n",
    " 0& 0 & 2 & \\cdots & 0\\\\ \n",
    " \\vdots & \\vdots & \\vdots & \\ddots & \\vdots\\\\ \n",
    " 0& 0 & 0 & \\cdots & 2\n",
    "\\end{bmatrix}_{n\\times n}$"
   ]
  },
  {
   "cell_type": "markdown",
   "metadata": {},
   "source": [
    "### 2. (a)\n",
    "\n",
    "$R(a)=E(a-y)^2$\n",
    "\n",
    "$=E_y(a^2-2ay+y^2)$\n",
    "\n",
    "$=E(a^2)-2E(ay)+E(y^2)$\n",
    "\n",
    "$=a^2-2aE(y)+Var(y)+E(y)^2$\n",
    "\n",
    "$=(a-E(y))^2+Var(y)$\n"
   ]
  },
  {
   "cell_type": "markdown",
   "metadata": {
    "ExecuteTime": {
     "end_time": "2020-02-19T19:21:12.312485Z",
     "start_time": "2020-02-19T19:21:12.309254Z"
    }
   },
   "source": [
    "To get minimal risk:\n",
    "\n",
    "$\\frac{\\partial E\\cal L(a, y)}{\\partial a}=0$\n",
    "\n",
    "$=> 2(a-E(y))=0$\n",
    "\n",
    "$\\therefore a=E(y)$"
   ]
  },
  {
   "cell_type": "markdown",
   "metadata": {},
   "source": [
    "To get the risk of a^*:\n",
    "\n",
    "$R(a^*)=E(a^*-y)^2$\n",
    "\n",
    "$=(a^*-E(y))^2+Var(y)$\n",
    "\n",
    "$\\because a^*=E(y)$\n",
    "\n",
    "$\\therefore R(a^*)=(E(y)-E(y))^2+Var(y)=Var(y)$"
   ]
  },
  {
   "cell_type": "markdown",
   "metadata": {},
   "source": [
    "### 2. (b)\n",
    "\n",
    "#### i.\n",
    "\n",
    "Let $a = f(x)$\n",
    "\n",
    "$f^*(x)=\\mathop{\\arg\\min}_{f(x)} E[(f(x)-y)^2|x]$\n",
    "\n",
    "$=E[f(x)^2-2f(x)y+y^2|x]$\n",
    "\n",
    "$=f(x)^2-2f(x)E(y|x)+E(y^2|x)$\n",
    "\n",
    "To get minimum:\n",
    "\n",
    "$\\frac{\\partial E[(f(x)-y)^2|x]}{\\partial f(x)}=2f(x)-2E(y|x)=0$\n",
    "\n",
    "$\\therefore f^*(x)=E(y|x)$"
   ]
  },
  {
   "cell_type": "markdown",
   "metadata": {
    "ExecuteTime": {
     "end_time": "2020-02-19T18:14:52.103806Z",
     "start_time": "2020-02-19T18:14:52.101720Z"
    }
   },
   "source": [
    "#### ii.\n",
    "\n",
    "Continuing from 2.a, we know\n",
    "\n",
    "$RHS=EE[(f(x)-y)^2|x]$\n",
    "\n",
    "$=E[Var(y|x]+(f(x)-E(y|x))^2]$\n",
    "\n",
    "$\\geq E(Var(y|x))$\n",
    "\n",
    "\n",
    "\n",
    "$LHS=EE[(f^*(x)-y)^2|x]$\n",
    "\n",
    "$=E[Var(y|x]+(f^*(x)-E(y|x))^2]$\n",
    "\n",
    "$=E[Var(y|x)+(E(y|x)-E(y|x))^2]$\n",
    "\n",
    "$=E(Var(y|x))$\n",
    "\n",
    "$\\therefore RHS \\geq LHS$\n",
    "\n",
    "By the law of iterated expectations, we also know\n",
    "\n",
    "$EE[(f^*(x)-y)^2|x]=E[(f^*(x)-y)^2]$\n",
    "\n",
    "$EE[(f(x)-y)^2|x]=E[(f(x)-y)^2]$\n",
    "\n",
    "$\\therefore E[(f^*(x)-y)^2] \\leq E[(f(x)-y)^2]$ is True"
   ]
  },
  {
   "cell_type": "markdown",
   "metadata": {},
   "source": [
    "## Linear Regression"
   ]
  },
  {
   "cell_type": "code",
   "execution_count": 1,
   "metadata": {
    "ExecuteTime": {
     "end_time": "2020-02-21T05:53:59.321245Z",
     "start_time": "2020-02-21T05:53:57.591612Z"
    }
   },
   "outputs": [],
   "source": [
    "import sys\n",
    "import numpy as np\n",
    "import pandas as pd\n",
    "import matplotlib.pyplot as plt\n",
    "from sklearn.model_selection import train_test_split"
   ]
  },
  {
   "cell_type": "markdown",
   "metadata": {},
   "source": [
    "### 1. (a)"
   ]
  },
  {
   "cell_type": "code",
   "execution_count": 2,
   "metadata": {
    "ExecuteTime": {
     "end_time": "2020-02-21T05:53:59.328728Z",
     "start_time": "2020-02-21T05:53:59.323026Z"
    }
   },
   "outputs": [],
   "source": [
    "### Feature normalization\n",
    "def feature_normalization(train, test):\n",
    "    \"\"\"Rescale the data so that each feature in the training set is in\n",
    "    the interval [0,1], and apply the same transformations to the test\n",
    "    set, using the statistics computed on the training set.\n",
    "\n",
    "    Args:\n",
    "        train - training set, a 2D numpy array of size (num_instances, num_features)\n",
    "        test - test set, a 2D numpy array of size (num_instances, num_features)\n",
    "\n",
    "    Returns:\n",
    "        train_normalized - training set after normalization\n",
    "        test_normalized - test set after normalization\n",
    "    \"\"\"\n",
    "    # TODO\n",
    "    col_max = np.apply_along_axis(max, 0, train)\n",
    "    col_min = np.apply_along_axis(min, 0, train)\n",
    "\n",
    "    train_normalized = (train-col_min)/(col_max-col_min)\n",
    "    test_normalized = (test-col_min)/(col_max-col_min)\n",
    "    \n",
    "    return train_normalized, test_normalized"
   ]
  },
  {
   "cell_type": "markdown",
   "metadata": {},
   "source": [
    "### 2. (a)\n",
    "\n",
    "Given $X \\in \\mathcal{R}^{m\\times(d+1)}$, $y=(y_1,...,y_m)^T \\in \\mathcal{R}^{m\\times1}$, $\\theta \\in \\mathcal{R}^{d+1}$\n",
    "\n",
    "$J=\\frac{1}{m} \\sum_{i=1}^{m}(h_{\\theta}(x_i)-y_i)^2=\\frac{1}{m}(x\\theta-y)^T(x\\theta-y)$"
   ]
  },
  {
   "cell_type": "markdown",
   "metadata": {},
   "source": [
    "### 2. (b)\n",
    "\n",
    "According to (a), $J=\\frac{1}{m}(x\\theta-y)^T(x\\theta-y)$\n",
    "\n",
    "\n",
    "$J=\\frac{1}{m}({\\theta}^Tx^T-y^T)(x\\theta-y)$\n",
    "\n",
    "$=\\frac{1}{m}[{\\theta}^Tx^Tx\\theta-{\\theta}^Tx^Ty-y^Tx\\theta+y^Ty$\n",
    "\n",
    "$=\\frac{1}{m}[{\\theta}^Tx^Tx\\theta-2(x\\theta)^Ty+y^Ty]$\n",
    "\n",
    "$=\\frac{1}{m}[{\\theta}^Tx^Tx\\theta-2(x\\theta)^Ty+y^Ty$\n",
    "\n",
    "$\\nabla J(\\theta)=\\frac{\\partial J(\\theta)}{\\partial \\theta}=\\frac{2}{m}[x^Tx\\theta-x^Ty]$"
   ]
  },
  {
   "cell_type": "markdown",
   "metadata": {},
   "source": [
    "### 2. (c)\n",
    "\n",
    "Considering the slop of $J(\\theta)$\n",
    "\n",
    "$J(\\theta+\\eta h) = J(\\theta) + \\nabla J(\\theta) \\cdot \\eta h$\n",
    "\n",
    "$\\therefore J(\\theta+\\eta h)-J(\\theta)=\\nabla J(\\theta) \\cdot \\eta h$"
   ]
  },
  {
   "cell_type": "markdown",
   "metadata": {},
   "source": [
    "### 2. (d)\n",
    "\n",
    "${\\theta}^{k+1} = \\theta^k-\\eta \\nabla J(\\theta)$"
   ]
  },
  {
   "cell_type": "markdown",
   "metadata": {},
   "source": [
    "### 2. (e)"
   ]
  },
  {
   "cell_type": "code",
   "execution_count": 3,
   "metadata": {
    "ExecuteTime": {
     "end_time": "2020-02-21T05:53:59.334815Z",
     "start_time": "2020-02-21T05:53:59.330939Z"
    }
   },
   "outputs": [],
   "source": [
    "### The square loss function\n",
    "def compute_square_loss(X, y, theta):\n",
    "    \"\"\"\n",
    "    Given a set of X, y, theta, compute the average square loss for predicting y with X*theta.\n",
    "\n",
    "    Args:\n",
    "        X - the feature vector, 2D numpy array of size (num_instances, num_features)\n",
    "        y - the label vector, 1D numpy array of size (num_instances)\n",
    "        theta - the parameter vector, 1D array of size (num_features)\n",
    "\n",
    "    Returns:\n",
    "        loss - the average square loss, scalar\n",
    "    \"\"\"\n",
    "    loss = 0 #Initialize the average square loss\n",
    "    #TODO\n",
    "    P = (np.dot(X, theta)-y)\n",
    "    m = X.shape[0]\n",
    "\n",
    "    loss = (1/m) * np.dot(P, P)\n",
    "    return loss"
   ]
  },
  {
   "cell_type": "markdown",
   "metadata": {},
   "source": [
    "### 2. (f)"
   ]
  },
  {
   "cell_type": "code",
   "execution_count": 4,
   "metadata": {
    "ExecuteTime": {
     "end_time": "2020-02-21T05:53:59.341129Z",
     "start_time": "2020-02-21T05:53:59.337308Z"
    }
   },
   "outputs": [],
   "source": [
    "### The gradient of the square loss function\n",
    "def compute_square_loss_gradient(X, y, theta):\n",
    "    \"\"\"\n",
    "    Compute the gradient of the average square loss (as defined in compute_square_loss), at the point theta.\n",
    "\n",
    "    Args:\n",
    "        X - the feature vector, 2D numpy array of size (num_instances, num_features)\n",
    "        y - the label vector, 1D numpy array of size (num_instances)\n",
    "        theta - the parameter vector, 1D numpy array of size (num_features)\n",
    "\n",
    "    Returns:\n",
    "        grad - gradient vector, 1D numpy array of size (num_features)\n",
    "    \"\"\"\n",
    "    #TODO\n",
    "    P = (np.dot(X, theta)-y)\n",
    "    m = X.shape[0]\n",
    "\n",
    "    return (2/m)*np.dot(X.T, P)"
   ]
  },
  {
   "cell_type": "markdown",
   "metadata": {},
   "source": [
    "### 3. (a)"
   ]
  },
  {
   "cell_type": "code",
   "execution_count": 5,
   "metadata": {
    "ExecuteTime": {
     "end_time": "2020-02-21T05:53:59.349256Z",
     "start_time": "2020-02-21T05:53:59.342895Z"
    }
   },
   "outputs": [],
   "source": [
    "### Gradient checker\n",
    "def grad_checker(X, y, theta, epsilon=0.01, tolerance=1e-4):\n",
    "    \"\"\"Implement Gradient Checker\n",
    "    Check that the function compute_square_loss_gradient returns the\n",
    "    correct gradient for the given X, y, and theta.\n",
    "\n",
    "    Let d be the number of features. Here we numerically estimate the\n",
    "    gradient by approximating the directional derivative in each of\n",
    "    the d coordinate directions:\n",
    "    (e_1 = (1,0,0,...,0), e_2 = (0,1,0,...,0), ..., e_d = (0,...,0,1))\n",
    "\n",
    "    The approximation for the directional derivative of J at the point\n",
    "    theta in the direction e_i is given by:\n",
    "    ( J(theta + epsilon * e_i) - J(theta - epsilon * e_i) ) / (2*epsilon).\n",
    "\n",
    "    We then look at the Euclidean distance between the gradient\n",
    "    computed using this approximation and the gradient computed by\n",
    "    compute_square_loss_gradient(X, y, theta).  If the Euclidean\n",
    "    distance exceeds tolerance, we say the gradient is incorrect.\n",
    "\n",
    "    Args:\n",
    "        X - the feature vector, 2D numpy array of size (num_instances, num_features)\n",
    "        y - the label vector, 1D numpy array of size (num_instances)\n",
    "        theta - the parameter vector, 1D numpy array of size (num_features)\n",
    "        epsilon - the epsilon used in approximation\n",
    "        tolerance - the tolerance error\n",
    "\n",
    "    Return:\n",
    "        A boolean value indicating whether the gradient is correct or not\n",
    "    \"\"\"\n",
    "    true_gradient = compute_square_loss_gradient(X, y, theta) #The true gradient\n",
    "    num_features = theta.shape[0]\n",
    "    approx_grad = np.zeros(num_features) #Initialize the gradient we approximate\n",
    "    #TODO\n",
    "    e_i = np.zeros(num_features)\n",
    "    for k in range(num_features):\n",
    "        e_i[k] = 1\n",
    "        approx_grad[k] = (compute_square_loss(X, y, theta+epsilon*e_i)-compute_square_loss(X, y, theta-epsilon*e_i))/(2*epsilon) \n",
    "        e_i[k] = 0\n",
    "\n",
    "    return np.sqrt(sum((true_gradient-approx_grad)**2)) < tolerance"
   ]
  },
  {
   "cell_type": "code",
   "execution_count": 6,
   "metadata": {
    "ExecuteTime": {
     "end_time": "2020-02-21T05:53:59.357826Z",
     "start_time": "2020-02-21T05:53:59.351391Z"
    }
   },
   "outputs": [],
   "source": [
    "### Generic gradient checker\n",
    "def generic_gradient_checker(X, y, theta, objective_func, gradient_func, epsilon=0.01, tolerance=1e-4):\n",
    "    \"\"\"\n",
    "    The functions takes objective_func and gradient_func as parameters. \n",
    "    And check whether gradient_func(X, y, theta) returned the true \n",
    "    gradient for objective_func(X, y, theta).\n",
    "    Eg: In LSR, the objective_func = compute_square_loss, and gradient_func = compute_square_loss_gradient\n",
    "    \"\"\"\n",
    "    #TODO\n",
    "    true_gradient = gradient_func(X, y, theta) #The true gradient\n",
    "    num_features = theta.shape[0]\n",
    "    approx_grad = np.zeros(num_features) #Initialize the gradient we approximate\n",
    "    #TODO\n",
    "    e_i = np.zeros(num_features)\n",
    "    for k in range(num_features):\n",
    "        e_i[k] = 1\n",
    "        approx_grad[k] = (objective_func(X, y, theta+epsilon*e_i)-objective_func(X, y, theta-epsilon*e_i))/(2*epsilon) \n",
    "        e_i[k] = 0\n",
    "\n",
    "    return np.sqrt(sum((true_gradient-approx_grad)**2)) < tolerance"
   ]
  },
  {
   "cell_type": "markdown",
   "metadata": {},
   "source": [
    "### 4. (a)"
   ]
  },
  {
   "cell_type": "code",
   "execution_count": 7,
   "metadata": {
    "ExecuteTime": {
     "end_time": "2020-02-21T05:53:59.367851Z",
     "start_time": "2020-02-21T05:53:59.360561Z"
    }
   },
   "outputs": [],
   "source": [
    "### Batch gradient descent\n",
    "def batch_grad_descent(X, y, alpha=0.1, num_step=1000, grad_check=False):\n",
    "    \"\"\"\n",
    "    In this question you will implement batch gradient descent to\n",
    "    minimize the average square loss objective.\n",
    "\n",
    "    Args:\n",
    "        X - the feature vector, 2D numpy array of size (num_instances, num_features)\n",
    "        y - the label vector, 1D numpy array of size (num_instances)\n",
    "        alpha - step size in gradient descent\n",
    "        num_step - number of steps to run\n",
    "        grad_check - a boolean value indicating whether checking the gradient when updating\n",
    "\n",
    "    Returns:\n",
    "        theta_hist - the history of parameter vector, 2D numpy array of size (num_step+1, num_features)\n",
    "                     for instance, theta in step 0 should be theta_hist[0], theta in step (num_step) is theta_hist[-1]\n",
    "        loss_hist - the history of average square loss on the data, 1D numpy array, (num_step+1)\n",
    "    \"\"\"\n",
    "    num_instances, num_features = X.shape[0], X.shape[1]\n",
    "    theta_hist = np.zeros((num_step+1, num_features)) #Initialize theta_hist\n",
    "    loss_hist = np.zeros(num_step+1) #Initialize loss_hist\n",
    "    theta = np.zeros(num_features) #Initialize theta\n",
    "    #TODO\n",
    "    loss_hist[0] = compute_square_loss(X, y, theta)\n",
    "    for i in range(1, num_step+1):\n",
    "        g = compute_square_loss_gradient(X, y, theta)\n",
    "        theta = theta - alpha*g\n",
    "\n",
    "        # check\n",
    "        if grad_check is True:\n",
    "            assert grad_checker(X, y, theta) \n",
    "\n",
    "        # update\n",
    "        avg_loss = compute_square_loss(X, y, theta)\n",
    "        theta_hist[i] = theta\n",
    "        loss_hist[i] = avg_loss\n",
    "\n",
    "    return [theta_hist, loss_hist]"
   ]
  },
  {
   "cell_type": "markdown",
   "metadata": {},
   "source": [
    "### 4. (b)"
   ]
  },
  {
   "cell_type": "code",
   "execution_count": 8,
   "metadata": {
    "ExecuteTime": {
     "end_time": "2020-02-21T05:54:00.004349Z",
     "start_time": "2020-02-21T05:53:59.371052Z"
    }
   },
   "outputs": [
    {
     "name": "stdout",
     "output_type": "stream",
     "text": [
      "Split into Train and Test\n",
      "Scaling all to [0, 1]\n"
     ]
    },
    {
     "data": {
      "image/png": "[encoded data removed]",
      "text/plain": [
       "<Figure size 720x720 with 4 Axes>"
      ]
     },
     "metadata": {
      "needs_background": "light"
     },
     "output_type": "display_data"
    }
   ],
   "source": [
    "df = pd.read_csv('ridge_regression_dataset.csv', delimiter=',')\n",
    "X = df.values[:,:-1]\n",
    "y = df.values[:,-1]\n",
    "\n",
    "print('Split into Train and Test')\n",
    "X_train, X_test, y_train, y_test = train_test_split(X, y, test_size =100, random_state=123)\n",
    "\n",
    "print(\"Scaling all to [0, 1]\")\n",
    "X_train, X_test = feature_normalization(X_train, X_test)\n",
    "X_train = np.hstack((X_train, np.ones((X_train.shape[0], 1))))  # Add bias term\n",
    "X_test = np.hstack((X_test, np.ones((X_test.shape[0], 1))))  # Add bias term\n",
    "# TODO\n",
    "# linear question 4\n",
    "step_size = [0.5, 0.1, 0.05, 0.01]\n",
    "\n",
    "plt.figure(figsize=(10, 10))\n",
    "for i, s in enumerate(step_size):\n",
    "    theta_list, loss_list = batch_grad_descent(X_train, y_train, alpha=s, num_step=1000, grad_check=False)\n",
    "    plt.subplot(2, 2, i+1)\n",
    "    plt.plot(range(0, 1001), loss_list)\n",
    "    plt.xlabel(\"Iteration\")\n",
    "    plt.ylabel(\"Square Loss\")\n",
    "    plt.legend(labels=[s])\n",
    "plt.show()"
   ]
  },
  {
   "cell_type": "markdown",
   "metadata": {
    "ExecuteTime": {
     "end_time": "2020-02-20T01:59:29.411268Z",
     "start_time": "2020-02-20T01:59:29.407817Z"
    }
   },
   "source": [
    "When the epsilon is set to 0.5 and 0.1, the loss function explodes. However, it converges quickly at 0.05. Step size at 0.01 is too slow to make the loss function converge."
   ]
  },
  {
   "cell_type": "markdown",
   "metadata": {},
   "source": [
    "## Ridge Regression"
   ]
  },
  {
   "cell_type": "markdown",
   "metadata": {},
   "source": [
    "### 1.\n",
    "\n",
    "$J(\\theta)=\\frac{1}{m}(x\\theta-y)^T(x\\theta-y)+\\lambda \\theta^T \\theta$\n",
    "\n",
    "$\\nabla J(\\theta)=\\frac{2}{m}x^T(x\\theta-y)+2\\lambda\\theta$"
   ]
  },
  {
   "cell_type": "markdown",
   "metadata": {},
   "source": [
    "### 2."
   ]
  },
  {
   "cell_type": "code",
   "execution_count": 9,
   "metadata": {
    "ExecuteTime": {
     "end_time": "2020-02-21T05:54:00.010811Z",
     "start_time": "2020-02-21T05:54:00.006667Z"
    }
   },
   "outputs": [],
   "source": [
    "### The gradient of regularized batch gradient descent\n",
    "def compute_regularized_square_loss_gradient(X, y, theta, lambda_reg):\n",
    "    \"\"\"\n",
    "    Compute the gradient of L2-regularized average square loss function given X, y and theta\n",
    "\n",
    "    Args:\n",
    "        X - the feature vector, 2D numpy array of size (num_instances, num_features)\n",
    "        y - the label vector, 1D numpy array of size (num_instances)\n",
    "        theta - the parameter vector, 1D numpy array of size (num_features)\n",
    "        lambda_reg - the regularization coefficient\n",
    "\n",
    "    Returns:\n",
    "        grad - gradient vector, 1D numpy array of size (num_features)\n",
    "    \"\"\"\n",
    "    #TODO\n",
    "    P = (np.dot(X, theta)-y)\n",
    "    m = X.shape[0]\n",
    "\n",
    "    return (2/m)*np.dot(X.T, P)+(2*lambda_reg*theta)"
   ]
  },
  {
   "cell_type": "markdown",
   "metadata": {},
   "source": [
    "### 3."
   ]
  },
  {
   "cell_type": "code",
   "execution_count": 10,
   "metadata": {
    "ExecuteTime": {
     "end_time": "2020-02-21T05:54:00.019640Z",
     "start_time": "2020-02-21T05:54:00.013051Z"
    }
   },
   "outputs": [],
   "source": [
    "### Regularized batch gradient descent\n",
    "def regularized_grad_descent(X, y, alpha=0.05, lambda_reg=10**-2, num_step=1000):\n",
    "    \"\"\"\n",
    "    Args:\n",
    "        X - the feature vector, 2D numpy array of size (num_instances, num_features)\n",
    "        y - the label vector, 1D numpy array of size (num_instances)\n",
    "        alpha - step size in gradient descent\n",
    "        lambda_reg - the regularization coefficient\n",
    "        num_step - number of steps to run\n",
    "    \n",
    "    Returns:\n",
    "        theta_hist - the history of parameter vector, 2D numpy array of size (num_step+1, num_features)\n",
    "                     for instance, theta in step 0 should be theta_hist[0], theta in step (num_step+1) is theta_hist[-1]\n",
    "        loss hist - the history of average square loss function without the regularization term, 1D numpy array.\n",
    "    \"\"\"\n",
    "    num_instances, num_features = X.shape[0], X.shape[1]\n",
    "    theta = np.zeros(num_features) #Initialize theta\n",
    "    theta_hist = np.zeros((num_step+1, num_features)) #Initialize theta_hist\n",
    "    loss_hist = np.zeros(num_step+1) #Initialize loss_hist\n",
    "    #TODO\n",
    "    loss_hist[0] = compute_square_loss(X, y, theta)\n",
    "    for i in range(1, num_step+1):\n",
    "        g = compute_regularized_square_loss_gradient(X, y, theta, lambda_reg)\n",
    "        theta = theta - alpha*g\n",
    "\n",
    "        # update\n",
    "        avg_loss = compute_square_loss(X, y, theta)\n",
    "        theta_hist[i] = theta\n",
    "        loss_hist[i] = avg_loss\n",
    "\n",
    "    return [theta_hist, loss_hist]"
   ]
  },
  {
   "cell_type": "markdown",
   "metadata": {},
   "source": [
    "### 4. \n",
    "\n",
    "If we use a large number for the extra bias dimension, the weight of the bias term would become much smaller in order to get the same intersection value as the previous one. Therefore, a much smaller weight won't make a significant effect on the regulization"
   ]
  },
  {
   "cell_type": "markdown",
   "metadata": {},
   "source": [
    "### 5."
   ]
  },
  {
   "cell_type": "code",
   "execution_count": 11,
   "metadata": {
    "ExecuteTime": {
     "end_time": "2020-02-21T05:54:01.215580Z",
     "start_time": "2020-02-21T05:54:00.021493Z"
    }
   },
   "outputs": [
    {
     "data": {
      "image/png": "[encoded data removed]",
      "text/plain": [
       "<Figure size 720x1080 with 4 Axes>"
      ]
     },
     "metadata": {
      "needs_background": "light"
     },
     "output_type": "display_data"
    }
   ],
   "source": [
    "steps = [5*10**-2, 10**-2, 5*10**-3, 10**-3]\n",
    "lambda_list = [(10**i)*j for i in np.linspace(-2, -5, 4) for j in [5, 1]]\n",
    "def train_ridge_regression(step_size, lambda_list):\n",
    "    plt.figure(figsize=(10, 15))\n",
    "    for i, s in enumerate(step_size):\n",
    "        loss_train = []\n",
    "        loss_test = []\n",
    "        for l in lambda_list:\n",
    "            theta_list, loss_list = regularized_grad_descent(X_train, y_train, alpha=s, lambda_reg=l, num_step=1000)\n",
    "            loss_train.append(loss_list[-1])\n",
    "            loss_test.append(compute_square_loss(X_test, y_test, theta_list[-1]))\n",
    "    \n",
    "        plt.subplot(2, 2, i+1)\n",
    "        xtick = range(1, len(lambda_list)+1)\n",
    "        plt.plot(xtick, loss_train)\n",
    "        plt.plot(xtick, loss_test)\n",
    "        plt.xticks(ticks=xtick, labels=lambda_list, rotation=90)\n",
    "        plt.title(\"step size: \" + str(s))\n",
    "        plt.xlabel(\"Lambda\")\n",
    "        plt.ylabel(\"Square Loss\")\n",
    "        plt.legend(labels=[\"train\", \"test\"])\n",
    "    plt.show()\n",
    "    \n",
    "train_ridge_regression(steps, lambda_list)"
   ]
  },
  {
   "cell_type": "markdown",
   "metadata": {},
   "source": [
    "### 6. \n",
    "I decided to choose the step size at 0.01 because not only did it converge quickly but also the square loss of both the training and testing set is better than others and pretty close to each other as well."
   ]
  },
  {
   "cell_type": "markdown",
   "metadata": {},
   "source": [
    "## Stochastic Gradient Descent"
   ]
  },
  {
   "cell_type": "markdown",
   "metadata": {},
   "source": [
    "### 1.\n",
    "\n",
    "$f_i(\\theta)=(h_\\theta(x_i)-y_i)^2+\\lambda \\theta^T\\theta$"
   ]
  },
  {
   "cell_type": "markdown",
   "metadata": {},
   "source": [
    "### 2.\n",
    "\n",
    "$J(\\theta)=\\frac{1}{m}\\sum_{i=1}^m(x_i\\theta-y_i)^2$\n",
    "\n",
    "$f_i(\\theta)=(x_i\\theta-y_i)^2$\n",
    "\n",
    "$\\nabla J(\\theta)=\\frac{\\partial J(\\theta)}{\\partial \\theta}=\\frac{1}{m}\\sum_{i=1}^m 2(x_i\\theta-y_i)x_i$\n",
    "\n",
    "$\\nabla f_i(\\theta)=\\frac{\\partial f_i(\\theta)}{\\partial \\theta}=2(x_i\\theta-y_i)x_i$\n",
    "\n",
    "$E(\\nabla f_i(\\theta))$\n",
    "\n",
    "$=E(2(x_i\\theta-y_i)x_i)=\\sum_{i=1}^m \\frac{1}{m} \\cdot 2(x_i\\theta-y_i)x_i$\n",
    "\n",
    "$=\\nabla J(\\theta)$, Q.E.D."
   ]
  },
  {
   "cell_type": "markdown",
   "metadata": {},
   "source": [
    "### 3.\n",
    "\n",
    "$g=\\nabla f_i(\\theta)=\\frac{\\partial f_i(\\theta)}{\\partial \\theta}=2x_i^T(x_i\\theta-y_i)+2\\lambda \\theta$\n",
    "\n",
    "$=> \\theta^{k+1}=\\theta^k - \\eta g$"
   ]
  },
  {
   "cell_type": "markdown",
   "metadata": {},
   "source": [
    "### 4."
   ]
  },
  {
   "cell_type": "code",
   "execution_count": 12,
   "metadata": {
    "ExecuteTime": {
     "end_time": "2020-02-21T05:54:01.227238Z",
     "start_time": "2020-02-21T05:54:01.218518Z"
    }
   },
   "outputs": [],
   "source": [
    "### Stochastic gradient descent\n",
    "def stochastic_grad_descent(X, y, alpha=0.01, lambda_reg=10**-2, num_epoch=1000):\n",
    "    \"\"\"\n",
    "    In this question you will implement stochastic gradient descent with regularization term\n",
    "\n",
    "    Args:\n",
    "        X - the feature vector, 2D numpy array of size (num_instances, num_features)\n",
    "        y - the label vector, 1D numpy array of size (num_instances)\n",
    "        alpha - string or float, step size in gradient descent\n",
    "                NOTE: In SGD, it's not a good idea to use a fixed step size. Usually it's set to 1/sqrt(t) or 1/t\n",
    "                if alpha is a float, then the step size in every step is the float.\n",
    "                if alpha == \"1/sqrt(t)\", alpha = 1/sqrt(t).\n",
    "                if alpha == \"1/t\", alpha = 1/t.\n",
    "        lambda_reg - the regularization coefficient\n",
    "        num_epoch - number of epochs to go through the whole training set\n",
    "\n",
    "    Returns:\n",
    "        theta_hist - the history of parameter vector, 3D numpy array of size (num_epoch, num_instances, num_features)\n",
    "                     for instance, theta in epoch 0 should be theta_hist[0], theta in epoch (num_epoch) is theta_hist[-1]\n",
    "        loss hist - the history of loss function vector, 2D numpy array of size (num_epoch, num_instances)\n",
    "    \"\"\"\n",
    "    num_instances, num_features = X.shape[0], X.shape[1]\n",
    "    theta = np.ones(num_features) #Initialize theta\n",
    "\n",
    "    theta_hist = np.zeros((num_epoch, num_instances, num_features)) #Initialize theta_hist\n",
    "    loss_hist = np.zeros((num_epoch, num_instances)) #Initialize loss_hist\n",
    "    #TODO\n",
    "    for i in range(num_epoch):\n",
    "        shuffled_index = np.arange(X.shape[0])\n",
    "        np.random.shuffle(shuffled_index)\n",
    "        for step, j in enumerate(shuffled_index):\n",
    "            g = compute_regularized_square_loss_gradient(X[j], y[j], theta, lambda_reg)\n",
    "            theta = theta - (alpha/np.sqrt((i*len(shuffled_index))+(step+1)))*g\n",
    "\n",
    "            # update\n",
    "            avg_loss = compute_square_loss(X, y, theta)\n",
    "            theta_hist[i][j] = theta\n",
    "            loss_hist[i][j] = avg_loss\n",
    "\n",
    "    return [theta_hist, loss_hist]"
   ]
  },
  {
   "cell_type": "markdown",
   "metadata": {},
   "source": [
    "### 5."
   ]
  },
  {
   "cell_type": "code",
   "execution_count": 13,
   "metadata": {
    "ExecuteTime": {
     "end_time": "2020-02-21T05:54:23.666194Z",
     "start_time": "2020-02-21T05:54:01.229876Z"
    }
   },
   "outputs": [
    {
     "data": {
      "image/png": "[encoded data removed]",
      "text/plain": [
       "<Figure size 1440x720 with 6 Axes>"
      ]
     },
     "metadata": {
      "needs_background": "light"
     },
     "output_type": "display_data"
    }
   ],
   "source": [
    "# SGD question 5\n",
    "C = np.linspace(0.14, 0.04, 6)\n",
    "lambda_sgd = 10**-3\n",
    "plt.figure(figsize=(20, 10))\n",
    "for i, s in enumerate(C):\n",
    "    theta_list, loss_list = stochastic_grad_descent(X, y, alpha=s, lambda_reg=lambda_sgd, num_epoch=1000)\n",
    "    plt.subplot(2, 3, i+1)\n",
    "    plt.plot(range(1, 1001), [epo[-1] for epo in loss_list])\n",
    "    plt.xlabel(\"Epoch\")\n",
    "    plt.ylabel(\"Square Loss\")\n",
    "    plt.legend(labels=[\"C: \"+str(np.round(s, 2))])\n",
    "plt.show()"
   ]
  }
 ],
 "metadata": {
  "kernelspec": {
   "display_name": "Python 3",
   "language": "python",
   "name": "python3"
  },
  "language_info": {
   "codemirror_mode": {
    "name": "ipython",
    "version": 3
   },
   "file_extension": ".py",
   "mimetype": "text/x-python",
   "name": "python",
   "nbconvert_exporter": "python",
   "pygments_lexer": "ipython3",
   "version": "3.7.3"
  },
  "latex_envs": {
   "LaTeX_envs_menu_present": true,
   "autoclose": false,
   "autocomplete": true,
   "bibliofile": "biblio.bib",
   "cite_by": "apalike",
   "current_citInitial": 1,
   "eqLabelWithNumbers": true,
   "eqNumInitial": 1,
   "hotkeys": {
    "equation": "Ctrl-E",
    "itemize": "Ctrl-I"
   },
   "labels_anchors": false,
   "latex_user_defs": false,
   "report_style_numbering": false,
   "user_envs_cfg": false
  },
  "toc": {
   "base_numbering": 1,
   "nav_menu": {},
   "number_sections": true,
   "sideBar": true,
   "skip_h1_title": false,
   "title_cell": "Table of Contents",
   "title_sidebar": "Contents",
   "toc_cell": false,
   "toc_position": {},
   "toc_section_display": true,
   "toc_window_display": false
  },
  "varInspector": {
   "cols": {
    "lenName": 16,
    "lenType": 16,
    "lenVar": 40
   },
   "kernels_config": {
    "python": {
     "delete_cmd_postfix": "",
     "delete_cmd_prefix": "del ",
     "library": "var_list.py",
     "varRefreshCmd": "print(var_dic_list())"
    },
    "r": {
     "delete_cmd_postfix": ") ",
     "delete_cmd_prefix": "rm(",
     "library": "var_list.r",
     "varRefreshCmd": "cat(var_dic_list()) "
    }
   },
   "types_to_exclude": [
    "module",
    "function",
    "builtin_function_or_method",
    "instance",
    "_Feature"
   ],
   "window_display": false
  }
 },
 "nbformat": 4,
 "nbformat_minor": 2
}
