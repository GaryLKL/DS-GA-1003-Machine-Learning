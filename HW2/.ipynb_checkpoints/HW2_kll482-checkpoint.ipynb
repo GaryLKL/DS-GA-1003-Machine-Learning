{
 "cells": [
  {
   "cell_type": "markdown",
   "metadata": {},
   "source": [
    "# Homework 2: Ridge Regression and Gradient Descent"
   ]
  },
  {
   "cell_type": "markdown",
   "metadata": {},
   "source": [
    "## Computing Risk"
   ]
  },
  {
   "cell_type": "markdown",
   "metadata": {},
   "source": [
    "### 1. (a)\n",
    "\n",
    "$E(||\\overrightarrow{X}||^2_2)$\n",
    "\n",
    "$=E(\\sum_{i=1}^{n} X^2_i)$\n",
    "\n",
    "$=\\sum_{i=1}^{n} E(X^2_i)$\n",
    "\n",
    "$=nE(X^2_1)$\n",
    "\n",
    "$=n*\\frac{1}{n}*[(-2)^2+(1)^2+(0)^2+(1)^2+(2)^2]$\n",
    "\n",
    "$=10$"
   ]
  },
  {
   "cell_type": "markdown",
   "metadata": {},
   "source": [
    "### 1. (b)\n",
    "\n",
    "$E(||\\overrightarrow{X}_\\infty||)$\n",
    "\n",
    "$=E(max|X_i|)$\n",
    "\n",
    "$=Pr(|X_i|=2)*2+Pr(|X_i|=1)*1$\n",
    "\n",
    "$=(1-(\\frac{3}{5})^n)*2+((\\frac{3}{5})^n-(\\frac{1}{5})^n)*1$\n"
   ]
  },
  {
   "cell_type": "markdown",
   "metadata": {},
   "source": [
    "### 1. (c)\n",
    "\n",
    "$Var(X)=E(X^2)-E(X)^2=\\frac{1}{5}((-2)^2+(1)^2+(0)^2+(1)^2+(2)^2)-0=2$\n",
    "\n",
    "$\\sum=\\begin{bmatrix}\n",
    " 2& 0 & 0 & \\cdots & 0\\\\ \n",
    " 0& 2 & 0 & \\cdots & 0\\\\ \n",
    " 0& 0 & 2 & \\cdots & 0\\\\ \n",
    " \\vdots & \\vdots & \\vdots & \\ddots & \\vdots\\\\ \n",
    " 0& 0 & 0 & \\cdots & 2\n",
    "\\end{bmatrix}$"
   ]
  },
  {
   "cell_type": "markdown",
   "metadata": {},
   "source": [
    "### 2.(a)\n",
    "\n",
    "$R(a)=E(a-y)^2$\n",
    "\n",
    "$=E_y(a^2-2ay+y^2)$\n",
    "\n",
    "$=E(a^2)-2E(ay)+E(y^2)$\n",
    "\n",
    "$=a^2-2aE(y)+Var(y)+E(y)^2$\n",
    "\n",
    "$=(a-E(y))^2+Var(y)$\n"
   ]
  },
  {
   "cell_type": "markdown",
   "metadata": {
    "ExecuteTime": {
     "end_time": "2020-02-19T19:21:12.312485Z",
     "start_time": "2020-02-19T19:21:12.309254Z"
    }
   },
   "source": [
    "To get minimal risk:\n",
    "\n",
    "$\\frac{\\partial E\\cal L(a, y)}{\\partial a}=0$\n",
    "\n",
    "$=> 2(a-E(y))=0$\n",
    "\n",
    "$\\therefore a=E(y)$"
   ]
  },
  {
   "cell_type": "markdown",
   "metadata": {},
   "source": [
    "To get the risk of a^*:\n",
    "\n",
    "$R(a^*)=E(a^*-y)^2$\n",
    "\n",
    "$=(a^*-E(y))^2+Var(y)$\n",
    "\n",
    "$\\because a^*=E(y)$\n",
    "\n",
    "$\\therefore R(a^*)=(E(y)-E(y))^2+Var(y)=Var(y)$"
   ]
  },
  {
   "cell_type": "markdown",
   "metadata": {},
   "source": [
    "### 2.(b).i\n",
    "\n"
   ]
  },
  {
   "cell_type": "markdown",
   "metadata": {
    "ExecuteTime": {
     "end_time": "2020-02-19T18:14:52.103806Z",
     "start_time": "2020-02-19T18:14:52.101720Z"
    }
   },
   "source": [
    "### 2.(b).ii"
   ]
  },
  {
   "cell_type": "code",
   "execution_count": null,
   "metadata": {},
   "outputs": [],
   "source": []
  }
 ],
 "metadata": {
  "kernelspec": {
   "display_name": "Python 3",
   "language": "python",
   "name": "python3"
  },
  "language_info": {
   "codemirror_mode": {
    "name": "ipython",
    "version": 3
   },
   "file_extension": ".py",
   "mimetype": "text/x-python",
   "name": "python",
   "nbconvert_exporter": "python",
   "pygments_lexer": "ipython3",
   "version": "3.7.3"
  },
  "latex_envs": {
   "LaTeX_envs_menu_present": true,
   "autoclose": false,
   "autocomplete": true,
   "bibliofile": "biblio.bib",
   "cite_by": "apalike",
   "current_citInitial": 1,
   "eqLabelWithNumbers": true,
   "eqNumInitial": 1,
   "hotkeys": {
    "equation": "Ctrl-E",
    "itemize": "Ctrl-I"
   },
   "labels_anchors": false,
   "latex_user_defs": false,
   "report_style_numbering": false,
   "user_envs_cfg": false
  },
  "toc": {
   "base_numbering": 1,
   "nav_menu": {},
   "number_sections": true,
   "sideBar": true,
   "skip_h1_title": false,
   "title_cell": "Table of Contents",
   "title_sidebar": "Contents",
   "toc_cell": false,
   "toc_position": {},
   "toc_section_display": true,
   "toc_window_display": false
  },
  "varInspector": {
   "cols": {
    "lenName": 16,
    "lenType": 16,
    "lenVar": 40
   },
   "kernels_config": {
    "python": {
     "delete_cmd_postfix": "",
     "delete_cmd_prefix": "del ",
     "library": "var_list.py",
     "varRefreshCmd": "print(var_dic_list())"
    },
    "r": {
     "delete_cmd_postfix": ") ",
     "delete_cmd_prefix": "rm(",
     "library": "var_list.r",
     "varRefreshCmd": "cat(var_dic_list()) "
    }
   },
   "types_to_exclude": [
    "module",
    "function",
    "builtin_function_or_method",
    "instance",
    "_Feature"
   ],
   "window_display": false
  }
 },
 "nbformat": 4,
 "nbformat_minor": 2
}
