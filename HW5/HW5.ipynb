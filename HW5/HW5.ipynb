{
 "cells": [
  {
   "cell_type": "markdown",
   "metadata": {},
   "source": [
    "# Homework 5: Probabilistic models"
   ]
  },
  {
   "cell_type": "markdown",
   "metadata": {
    "ExecuteTime": {
     "end_time": "2020-04-13T07:28:51.276629Z",
     "start_time": "2020-04-13T07:28:51.273696Z"
    }
   },
   "source": [
    "Student Name: Kuan-Lin Liu\n",
    "\n",
    "Student ID: kll482"
   ]
  },
  {
   "cell_type": "markdown",
   "metadata": {},
   "source": [
    "## 1. Logistic Regression\n",
    "\n",
    "### 1.1 Equivalence of ERM and probabilistic approaches"
   ]
  },
  {
   "cell_type": "markdown",
   "metadata": {},
   "source": [
    "(a)\n",
    "\n",
    "$ERM = argmin_w \\frac{1}{n}\\sum_{i=1}^n log[1+exp(-y_iw^Tx_i)]$\n",
    "\n",
    "$\\hat{R}(w) = \\frac{1}{n}\\sum_{i=1}^n log[1+exp(-y_iw^Tx_i)]$"
   ]
  },
  {
   "cell_type": "markdown",
   "metadata": {
    "ExecuteTime": {
     "end_time": "2020-04-13T07:29:22.989569Z",
     "start_time": "2020-04-13T07:29:22.982091Z"
    }
   },
   "source": [
    "(b)\n",
    "\n",
    "Let $$P(y=1|x;w) = f(w^Tx) = \\frac{1}{1+exp(-w^Tx)}$$\n",
    "\n",
    "We know $$\\enspace P(Y=y|X=x)=f(w^Tx)^y[1-f(w^Tx)]^{(1-y)}$$\n",
    "\n",
    "Then,\n",
    "\n",
    "$$L(w) = \\prod_{i=1}^n P(Y=y_i|X=x_i) = \\prod_{i=1}^n f(w^Tx)^y[1-f(w^Tx)]^{(1-y)} $$\n",
    "$$LL(w) = \\log\\left[ \\prod_{i=1}^n f(w^Tx)^y[1-f(w^Tx)]^{(1-y)} \\right] = \\sum_{i=1}^n y_i\\log f(w^Tx_i) + (1-y_i)\\log (1-f(w^Tx_i)) $$\n",
    "$$NLL(w) = -\\sum_{i=1}^n y_i\\log f(w^Tx_i) + (1-y_i)\\log (1-f(w^Tx_i))$$"
   ]
  },
  {
   "cell_type": "markdown",
   "metadata": {},
   "source": [
    "(c)\n",
    "\n",
    "Prove (a) and (b) are equal\n",
    "\n",
    "When $\\enspace y_i=1 \\enspace\\text{and} \\enspace \\hat{y_i} = 1,$\n",
    "$$NLL(w) = \\sum_{i=1}^n-\\log f(w^Tx_i) = \\sum_{i=1}^n\\log (1+exp(-w^Tx_i)) = n\\hat{R(w)}$$\n",
    "\n",
    "When $\\enspace y_i=-1 \\enspace\\text{and} \\enspace \\hat{y_i} = 0,$\n",
    "\n",
    "$$NLL(w) = \\sum_{i=1}^n-\\log (1-f(w^Tx_i))$$\n",
    "\n",
    "$$= \\sum_{i=1}^n \\log (1-\\frac{1}{1+exp(-w^Tx_i)})^{-1}$$\n",
    "\n",
    "$$= \\sum_{i=1}^n \\log (\\frac{exp(-w^Tx_i)}{1+exp(-w^Tx_i)})^{-1} $$\n",
    "\n",
    "$$= \\sum_{i=1}^n \\log (\\frac{1+exp(-w^Tx_i)}{exp(-w^Tx_i)})$$\n",
    "\n",
    "$$= \\sum_{i=1}^n \\log (1+exp(w^Tx_i))$$\n",
    "\n",
    "$$= n\\hat{R(w)}$$\n",
    "\n",
    "Since n is a constant, ERM and MLE will not be affected by the constant and will produce the same w."
   ]
  },
  {
   "cell_type": "markdown",
   "metadata": {},
   "source": [
    "### 1.2 Linearly Separable Data"
   ]
  },
  {
   "cell_type": "markdown",
   "metadata": {},
   "source": [
    "#### 1.2.1\n",
    "\n",
    "According to the condition of that the data is linearly separable, we can find a decision boundary that predict y=1 if $w^Tx \\geq 0$ and y=0 if $w^Tx < 0$. The decision boundary is $w^Tx = 0$ with $P(y=1|x;w)=0.5$."
   ]
  },
  {
   "cell_type": "markdown",
   "metadata": {},
   "source": [
    "#### 1.2.2\n",
    "\n",
    "$\\frac{\\partial NLL(w; c)}{\\partial c} = \\frac{\\partial -\\sum_{i=1}^n y_i\\log f(cw^Tx_i) + (1-y_i)\\log (1-f(cw^Tx_i))}{\\partial c}$\n",
    "\n",
    "Let $z_i = cw^Tx_i$ and $f_i=f(cw^Tx_i)$,\n",
    "\n",
    "$\\frac{\\partial NLL(w; c)}{\\partial c}=\\frac{\\partial NLL}{\\partial f_i} \\cdot \\frac{\\partial f_i}{\\partial z_i} \\cdot \\frac{\\partial z_i}{\\partial c}$\n",
    "\n",
    "$=-\\sum_{i=1}^n [\\frac{y_i}{f_i} - \\frac{1-y}{1-f}]\\cdot f_i(1-f_i) \\cdot w^Tx_i$\n",
    "\n",
    "$=-\\sum_{i=1}^n[(1-f_i)y_i-f_i(1-y_i)] \\cdot w^Tx_i$\n",
    "\n",
    "$=-\\sum_{i=1}^n [y_i-f_i] \\cdot w^Tx_i$\n",
    "\n",
    "$=\\sum_{i=1}^n [f_i-y_i] \\cdot w^Tx_i$\n",
    "\n",
    "$=\\sum_{i=1}^n [f_i(cw^Tx)-y_i] \\cdot w^Tx_i$\n",
    "\n",
    "$\\because \\text{If} \\ c \\rightarrow \\infty, \\ f(cw^Tx_i) \\rightarrow 1$\n",
    "\n",
    "$\\therefore$ the derivative of NLL on c is strictly positive"
   ]
  },
  {
   "cell_type": "markdown",
   "metadata": {},
   "source": [
    "### 1.3 Regularized Logistic Regression"
   ]
  },
  {
   "cell_type": "markdown",
   "metadata": {},
   "source": [
    "#### 1.3.1\n",
    "\n",
    "First, let's prove $\\sum_{i=1}^n log(1+exp(y_iw^Tx_i)$ is convex.\n",
    "\n",
    "\n",
    "Since we know $\\sum_{i=1}^n \\lambda ||w||^2$ is also convex, so $J_{logistic} (w)$ is also convex."
   ]
  },
  {
   "cell_type": "markdown",
   "metadata": {},
   "source": [
    "#### 1.3.2"
   ]
  },
  {
   "cell_type": "code",
   "execution_count": 6,
   "metadata": {
    "ExecuteTime": {
     "end_time": "2020-04-13T09:43:58.563745Z",
     "start_time": "2020-04-13T09:43:58.358594Z"
    }
   },
   "outputs": [],
   "source": [
    "import numpy as np\n",
    "from scipy.optimize import minimize"
   ]
  },
  {
   "cell_type": "code",
   "execution_count": 63,
   "metadata": {
    "ExecuteTime": {
     "end_time": "2020-04-14T22:15:15.518341Z",
     "start_time": "2020-04-14T22:15:15.513917Z"
    }
   },
   "outputs": [],
   "source": [
    "def f_objective(theta, X, y, l2_param=1):\n",
    "    '''\n",
    "    Args:\n",
    "        theta: 1D numpy array of size num_features\n",
    "        X: 2D numpy array of size (num_instances, num_features)\n",
    "        y: 1D numpy array of size num_instances\n",
    "        l2_param: regularization parameter\n",
    "\n",
    "    Returns:\n",
    "        objective: scalar value of objective function\n",
    "    '''\n",
    "    # y should be in {-1, 1}\n",
    "    n = X.shape[0]\n",
    "    x1 = 0 # exp(0) = 1\n",
    "    x2 = np.array([-y[i]*v for i, v in enumerate(np.dot(X, theta))])\n",
    "    return np.sum(np.logaddexp(x1, x2))/n + l2_param*np.sum(np.square(theta))"
   ]
  },
  {
   "cell_type": "code",
   "execution_count": 126,
   "metadata": {
    "ExecuteTime": {
     "end_time": "2020-04-15T13:15:40.870618Z",
     "start_time": "2020-04-15T13:15:40.866793Z"
    }
   },
   "outputs": [],
   "source": [
    "def f_objective(theta, X, y, l2_param=1):\n",
    "    n = X.shape[0]\n",
    "    summ = 0\n",
    "    for i in range(n):\n",
    "        summ += np.logaddexp(0, -y[i]*np.dot(theta, X[i]))\n",
    "    return summ/n + l2_param*sum(theta**2)"
   ]
  },
  {
   "cell_type": "markdown",
   "metadata": {},
   "source": [
    "#### 1.3.3"
   ]
  },
  {
   "cell_type": "code",
   "execution_count": 164,
   "metadata": {
    "ExecuteTime": {
     "end_time": "2020-04-15T13:28:16.855433Z",
     "start_time": "2020-04-15T13:28:16.851957Z"
    }
   },
   "outputs": [],
   "source": [
    "def fit_logistic_reg(X, y, objective_function, l2_param=1):\n",
    "    '''\n",
    "    Args:\n",
    "        X: 2D numpy array of size (num_instances, num_features)\n",
    "        y: 1D numpy array of size num_instances\n",
    "        objective_function: function returning the value of the objective\n",
    "        l2_param: regularization parameter\n",
    "        \n",
    "    Returns:\n",
    "        optimal_theta: 1D numpy array of size num_features\n",
    "    '''\n",
    "    theta_0 = np.zeros(X.shape[1])\n",
    "    minimizer = minimize(objective_function, theta_0, args=(X, y, l2_param))\n",
    "    \n",
    "    # return the optimal theta\n",
    "    return minimizer.x"
   ]
  },
  {
   "cell_type": "markdown",
   "metadata": {},
   "source": [
    "> Remember to do preprocessing and add the bias vector in the following question."
   ]
  },
  {
   "cell_type": "markdown",
   "metadata": {},
   "source": [
    "#### 1.3.4"
   ]
  },
  {
   "cell_type": "code",
   "execution_count": 128,
   "metadata": {
    "ExecuteTime": {
     "end_time": "2020-04-15T13:15:46.212594Z",
     "start_time": "2020-04-15T13:15:46.208867Z"
    }
   },
   "outputs": [],
   "source": [
    "### function for reading the txt file ###\n",
    "def read_txt(file_path):\n",
    "    data = []\n",
    "    with open(file_path, \"r\") as f:\n",
    "        for row in f:\n",
    "            row_float = [float(i) for i in row.strip().split(\",\")]\n",
    "            data.append(row_float)\n",
    "    return np.array(data)"
   ]
  },
  {
   "cell_type": "code",
   "execution_count": 148,
   "metadata": {
    "ExecuteTime": {
     "end_time": "2020-04-15T13:20:04.733189Z",
     "start_time": "2020-04-15T13:20:04.699364Z"
    }
   },
   "outputs": [],
   "source": [
    "### input X_train, X_val, y_train, y_val ###\n",
    "relative_path = \"code/logistic-code/\"\n",
    "X_train = read_txt(relative_path+\"X_train.txt\")\n",
    "X_val = read_txt(relative_path+\"X_val.txt\")\n",
    "y_train = read_txt(relative_path+\"y_train.txt\")\n",
    "y_val = read_txt(relative_path+\"y_val.txt\")\n",
    "\n",
    "### revise the domain of y_train and y_val to be in {-1, 1} ###\n",
    "y_train = y_train.reshape(y_train.shape[0])\n",
    "y_train = [1 if row > 0.5 else -1 for row in y_train]\n",
    "\n",
    "y_val = y_val.reshape(y_val.shape[0])\n",
    "y_val = [1 if row > 0.5 else -1 for row in y_val]"
   ]
  },
  {
   "cell_type": "code",
   "execution_count": 149,
   "metadata": {
    "ExecuteTime": {
     "end_time": "2020-04-15T13:20:04.905302Z",
     "start_time": "2020-04-15T13:20:04.901578Z"
    }
   },
   "outputs": [],
   "source": [
    "### add bias ###\n",
    "bias_train = np.ones((X_train.shape[0], 1))\n",
    "bias_val = np.ones((X_val.shape[0], 1))\n",
    "X_train = np.hstack((X_train, bias_train))\n",
    "X_val = np.hstack((X_val, bias_val))"
   ]
  },
  {
   "cell_type": "code",
   "execution_count": 150,
   "metadata": {
    "ExecuteTime": {
     "end_time": "2020-04-15T13:20:05.068744Z",
     "start_time": "2020-04-15T13:20:05.063511Z"
    }
   },
   "outputs": [],
   "source": [
    "### standardize ###\n",
    "from sklearn.preprocessing import StandardScaler\n",
    "std_scaler = StandardScaler()\n",
    "X_train_scaled = std_scaler.fit_transform(X_train)\n",
    "X_val_scaled = std_scaler.fit_transform(X_val)"
   ]
  },
  {
   "cell_type": "code",
   "execution_count": 151,
   "metadata": {
    "ExecuteTime": {
     "end_time": "2020-04-15T13:20:06.304162Z",
     "start_time": "2020-04-15T13:20:05.475922Z"
    }
   },
   "outputs": [],
   "source": [
    "### fit ###\n",
    "weight = fit_logistic_reg(X_train_scaled, y_train, f_objective)"
   ]
  },
  {
   "cell_type": "code",
   "execution_count": 152,
   "metadata": {
    "ExecuteTime": {
     "end_time": "2020-04-15T13:20:06.364715Z",
     "start_time": "2020-04-15T13:20:06.360999Z"
    }
   },
   "outputs": [
    {
     "data": {
      "text/plain": [
       "array([ 9.55816228e-04, -2.98337651e-04,  3.02827133e-03,  1.05326768e-01,\n",
       "       -3.58817577e-03, -1.35868486e-03, -3.85249746e-03, -7.90075397e-04,\n",
       "       -1.14383982e-03, -7.17818640e-02,  6.54805982e-03, -4.51114274e-03,\n",
       "        1.12493000e-02, -3.86482133e-03, -2.71206254e-03,  1.50358193e-03,\n",
       "       -2.78418333e-03, -9.19055703e-03, -6.82303734e-03, -1.02758348e-02,\n",
       "       -9.05911182e-09])"
      ]
     },
     "execution_count": 152,
     "metadata": {},
     "output_type": "execute_result"
    }
   ],
   "source": [
    "weight"
   ]
  },
  {
   "cell_type": "markdown",
   "metadata": {},
   "source": [
    "> From the question 1.1 above, we have proved $NLL(w)$ is equal to $\\hat{nR(w)}$. Therefore, $LL(w)$ is equal to $-\\hat{nR(w)}$. Just for reminding, $\\hat{R(w)}$ is my objective function without the regularizer."
   ]
  },
  {
   "cell_type": "code",
   "execution_count": 162,
   "metadata": {
    "ExecuteTime": {
     "end_time": "2020-04-15T13:27:13.051563Z",
     "start_time": "2020-04-15T13:27:13.048259Z"
    }
   },
   "outputs": [],
   "source": [
    "### get loglikelilood ###\n",
    "def get_logll_function(X, y, theta, l2_param):\n",
    "    my_objective = f_objective(theta, X, y, l2_param)\n",
    "    n = X.shape[0]\n",
    "    \n",
    "    return -n*(my_objective-l2_param*np.sum(theta**2))"
   ]
  },
  {
   "cell_type": "code",
   "execution_count": 163,
   "metadata": {
    "ExecuteTime": {
     "end_time": "2020-04-15T13:27:14.950654Z",
     "start_time": "2020-04-15T13:27:14.946969Z"
    }
   },
   "outputs": [],
   "source": [
    "### function for plotting the LL for a list of regularization parameter ###\n",
    "import matplotlib.pyplot as plt\n",
    "\n",
    "def plot_logll(l2_param_list, logll_list):\n",
    "    plt.plot(l2_param_list, logll_list, marker=\"o\")\n",
    "    plt.xlabel(\"l2 param\")\n",
    "    plt.ylabel(\"log likelihood\")\n",
    "    plt.title(\"The curve of log likelihood\")\n",
    "    plt.show()"
   ]
  },
  {
   "cell_type": "code",
   "execution_count": 165,
   "metadata": {
    "ExecuteTime": {
     "end_time": "2020-04-15T13:28:51.213845Z",
     "start_time": "2020-04-15T13:28:51.210284Z"
    }
   },
   "outputs": [],
   "source": [
    "### find the minimal LL ###\n",
    "def train_logistic_reg(X_train, y_train, X_val, y_val, objective_function, l2_param_list):\n",
    "    logll_list = []\n",
    "    for l2 in l2_param_list:\n",
    "        best_theta = fit_logistic_reg(X_train, y_train, objective_function, l2) \n",
    "        logll_list.append(get_logll_function(X_val, y_val, best_theta, l2))\n",
    "    \n",
    "    # return the logll list\n",
    "    return logll_list"
   ]
  },
  {
   "cell_type": "code",
   "execution_count": 166,
   "metadata": {
    "ExecuteTime": {
     "end_time": "2020-04-15T13:30:06.692615Z",
     "start_time": "2020-04-15T13:29:15.097846Z"
    }
   },
   "outputs": [
    {
     "data": {
      "image/png": "[encoded data removed]",
      "text/plain": [
       "<Figure size 432x288 with 1 Axes>"
      ]
     },
     "metadata": {
      "needs_background": "light"
     },
     "output_type": "display_data"
    }
   ],
   "source": [
    "### plot the result ###\n",
    "l2_param_list = np.linspace(0.001, 0.1, 50)\n",
    "logll_list_result = train_logistic_reg(X_train_scaled, y_train, X_val_scaled, y_val, f_objective, l2_param_list)\n",
    "plot_logll(l2_param_list, logll_list_result)"
   ]
  },
  {
   "cell_type": "code",
   "execution_count": 167,
   "metadata": {
    "ExecuteTime": {
     "end_time": "2020-04-15T13:30:47.924768Z",
     "start_time": "2020-04-15T13:30:47.920870Z"
    }
   },
   "outputs": [
    {
     "name": "stdout",
     "output_type": "stream",
     "text": [
      "The minimal log-likelihood I found is: -233.00235581647405\n",
      "The value of the l2 parameter is: 0.019183673469387756\n"
     ]
    }
   ],
   "source": [
    "### Get maximal log-likelihood from the plot ###\n",
    "max_logll_l2 = max(zip(l2_param_list, logll_list_result), key=lambda x: x[1])\n",
    "print(\"The minimal log-likelihood I found is: {}\".format(max_logll_l2[1]))\n",
    "print(\"The value of the l2 parameter is: {}\".format(max_logll_l2[0]))"
   ]
  },
  {
   "cell_type": "markdown",
   "metadata": {},
   "source": [
    "## 2. Bayesian Logistic Regression with Gaussian Priors"
   ]
  },
  {
   "cell_type": "markdown",
   "metadata": {},
   "source": [
    "### 2.1\n",
    "\n",
    "$P(w|\\mathcal{D}) = \\frac{P(w\\cap\\mathcal{D})}{P(\\mathcal{D}}=\\frac{P(w)\\cdot P(\\mathcal{D}|w)}{P(\\mathcal{D})} $\n",
    "\n",
    "$\\propto P(w)\\cdot P(\\mathcal{D}|w)$\n",
    "\n",
    "$\\propto P(w)\\cdot L(w)$\n",
    "\n",
    "$\\propto P(w)\\cdot exp(LL(w))$ \n",
    "\n",
    "$ \\propto P(w)\\cdot exp(-NLL(w))$"
   ]
  },
  {
   "cell_type": "markdown",
   "metadata": {},
   "source": [
    "### 2.2\n",
    "\n",
    "$ L(w) = \\prod_{i=1}^n P(Y=y_i|X=x_i) = \\prod_{i=1}^n f(w^Tx)^y[1-f(w^Tx)]^{(1-y)} $\n",
    "\n",
    "From the equation above, we know the likelihood of logistic regression is a Bernoulli distribution, which is the beta family. However, $w$ has a normal distribution. Therefore, $P(w)$ is not a conjugate prior to the likelihood of logistic regression."
   ]
  },
  {
   "cell_type": "markdown",
   "metadata": {},
   "source": [
    "### 2.3"
   ]
  },
  {
   "cell_type": "markdown",
   "metadata": {
    "ExecuteTime": {
     "end_time": "2020-04-15T03:53:04.174687Z",
     "start_time": "2020-04-15T03:53:04.164582Z"
    }
   },
   "source": [
    "Given, $$\\mathcal{N}(0, \\Sigma)=\\frac{1}{\\sqrt{2\\pi\\sigma^2}}exp(-\\frac{w^Tw}{2\\Sigma})$$\n",
    "\n",
    "Solving,\n",
    "\n",
    "$$-\\log P(w|\\mathcal{D}) \\propto -\\log[P(w)\\cdot exp(-NLL(w))]$$\n",
    "\n",
    "$$\\propto -\\log P(w) + NLL(w), \\enspace \\text{given} \\ w \\sim \\mathcal{N}(0, \\Sigma)$$\n",
    "\n",
    "$$\\propto -[\\log (2\\pi\\Sigma)^{-\\frac{1}{2}} - \\frac{1}{2}w^Tw\\Sigma^{-1}] + n\\hat{R(w)}$$\n",
    "\n",
    "$$\\propto \\frac{1}{2}log (2\\pi\\Sigma) + \\frac{1}{2}w^Tw\\Sigma^{-1} + n\\hat{R(w)}$$\n",
    "\n",
    "$$\\propto \\frac{1}{2}w^Tw\\Sigma^{-1} + n\\hat{R(w)} \\enspace \\because \\frac{1}{2}log (2\\pi\\Sigma) \\enspace \\text{is constant} $$\n",
    "\n",
    "Let, $$\\Sigma = \\frac{1}{2n\\lambda}I$$\n",
    "\n",
    "Then we can get, $$-\\log P(w|\\mathcal{D}) \\propto n\\hat{R(w)} + n\\lambda ||w||^2$$"
   ]
  },
  {
   "cell_type": "markdown",
   "metadata": {},
   "source": [
    "### 2.4\n",
    "\n",
    "Continuing from Q2.3, if $\\Sigma=I$, then we set $\\lambda=\\frac{1}{2n}$ so that the minimizer is equal to the mode of the posterior distribution of w."
   ]
  },
  {
   "cell_type": "markdown",
   "metadata": {},
   "source": [
    "## 3. Coin Flipping with Partial Observability"
   ]
  },
  {
   "cell_type": "markdown",
   "metadata": {
    "ExecuteTime": {
     "end_time": "2020-04-15T07:33:50.979793Z",
     "start_time": "2020-04-15T07:33:50.970163Z"
    }
   },
   "source": [
    "### 3.1\n",
    "\n",
    "$P(x=H|\\theta_1, \\theta_2) = \\Sigma_{\\acute{z} \\in \\{H, T\\}}P(x=H, z=\\acute{z} \\ |\\theta_1\\theta_2)$\n",
    "\n",
    "Solve,\n",
    "\n",
    "$P(x=H, z=\\acute{z} \\ |\\theta_1\\theta_2)$\n",
    "\n",
    "$= \\frac{P(x=H, z=\\acute{z},\\theta_1\\theta_2)}{P(\\theta_1\\theta_2)}$\n",
    "\n",
    "$=\\frac{P(x=H | z=\\acute{z}, \\  \\theta_1\\theta_2) \\cdot P(z=\\acute{z},\\ \\theta_1\\theta_2)}{P(\\theta_1 \\theta_2)}$\n",
    "\n",
    "$=P(x=H | z=\\acute{z}, \\  \\theta_2) \\cdot P(z=\\acute{z}\\ | \\theta_1\\theta_2) \\enspace \\because \\theta_1 \\ \\text{is independent to} \\ x \\ \\text{given by} \\ z, \\ \\theta_2$\n",
    "\n",
    "$=P(x=H | z=\\acute{z}, \\  \\theta_2) \\cdot P(z=\\acute{z}\\ | \\theta_1) \\enspace \\because \\theta_2 \\ \\text{is independent to z given by } \\theta_1$\n",
    "\n",
    "Since $P(x=T|z=T)=1$, we only care about the condition of $\\acute{z}=H$.\n",
    "\n",
    "Therefore, $$P(x=H|\\theta_1, \\theta_2)=P(x=H|z=H, \\theta_2)\\cdot P(z=H|\\theta_1)=\\theta_1\\theta_2$$"
   ]
  },
  {
   "cell_type": "markdown",
   "metadata": {},
   "source": [
    "### 3.2\n",
    "\n",
    "$P(x|\\theta_1, \\theta_2)=P(x=H|\\theta_1, \\theta_2) \\cdot P(x=T|\\theta_1, \\theta_2)$\n",
    "\n",
    "$P(\\mathcal{D_r}|\\theta_1, \\theta_2)=(\\frac{N_r}{n_h+n_t})(\\theta_1\\theta_2)^{n_h}(1-\\theta_1\\theta_2)^{n_t}$\n",
    "\n",
    "$-\\log P(\\mathcal{D_r}|\\theta_1, \\theta_2) \\propto -n_h \\log \\theta_1\\theta_2 - n_t \\log (1-\\theta_1\\theta_2)$\n",
    "\n",
    "By MLE, we want to minimize $-\\log P(\\mathcal{D}|\\theta_1, \\theta_2)$\n",
    "\n",
    "(a) \n",
    "\n",
    "$\\frac{\\partial -\\log P(\\mathcal{D}|\\theta_1, \\theta_2)}{\\partial \\theta_1}=\\frac{-n_h}{\\theta_1}+\\frac{n_t\\theta_2}{1-\\theta_1\\theta_2}=0$\n",
    "\n",
    "(b)\n",
    "\n",
    "$\\frac{\\partial -\\log P(\\mathcal{D}|\\theta_1, \\theta_2)}{\\partial \\theta_2}=\\frac{-n_h}{\\theta_2}+\\frac{n_t\\theta_1}{1-\\theta_1\\theta_2}=0$\n",
    "\n",
    "$\\Rightarrow \\frac{n_t\\theta_1\\theta_2}{n_h}=1-\\theta_1\\theta_2$ \n",
    "\n",
    "Substitute $\\frac{n_t\\theta_1\\theta_2}{n_h}$ with $1-\\theta_1\\theta_2$ in (a), we will get $\\frac{-n_h}{\\theta_1}+\\frac{n_hn_t}{n_t\\theta_1}=0$.\n",
    "\n",
    "So, $\\theta_1, \\theta_2$ can not be estimated using MLE."
   ]
  },
  {
   "cell_type": "markdown",
   "metadata": {
    "ExecuteTime": {
     "end_time": "2020-04-16T02:57:56.921284Z",
     "start_time": "2020-04-16T02:57:56.919145Z"
    }
   },
   "source": [
    "### 3.3\n",
    "\n",
    "$P(\\mathcal{D_r, D_c}|\\theta_1, \\theta_2)=P(D_c|\\theta_1)P(D_r|\\theta_1, \\theta_2)$\n",
    "\n",
    "$-\\log P(\\mathcal{D_r, D_c}|\\theta_1, \\theta_2) = -\\log P(D_c|\\theta_1)P(D_r|\\theta_1, \\theta_2)$\n",
    "\n",
    "$\\propto \\big[-c_h \\log \\theta_1 - c_t \\log (1-\\theta_1)\\big]+ \\big[-n_h \\log \\theta_1\\theta_2 - n_t \\log (1-\\theta_1\\theta_2)\\big]$\n",
    "\n",
    "By MLE, we want to minimize $\\propto \\big[-c_h \\log \\theta_1 - c_t \\log (1-\\theta_1)\\big]+ \\big[-n_h \\log \\theta_1\\theta_2 - n_t \\log (1-\\theta_1\\theta_2)\\big]$\n",
    "\n",
    "(a)\n",
    "\n",
    "$\\frac{\\partial -\\log P(\\mathcal{D_r, D_c}|\\theta_1, \\theta_2)}{\\partial \\theta_1}=-\\big[\\frac{c_h}{\\theta_1}-\\frac{c_t}{1-\\theta_1} \\big]-\\big[\\frac{n_h}{\\theta_1}-\\frac{\\theta_2n_t}{1-\\theta_1\\theta_2} \\big]=0$\n",
    "\n",
    "(b)\n",
    "\n",
    "$\\frac{\\partial -\\log P(\\mathcal{D_r, D_c}|\\theta_1, \\theta_2)}{\\partial \\theta_2}=-\\big[\\frac{n_h}{\\theta_2}-\\frac{n_t\\theta_1}{1-\\theta_1\\theta_2}\\big]=0$\n",
    "\n",
    "$\\Rightarrow 1-\\theta_1\\theta_2=\\frac{n_t\\theta_1\\theta_2}{n_h}$\n",
    "\n",
    "Substitute $1-\\theta_1\\theta_2$ with $\\frac{n_t\\theta_1\\theta_2}{n_h}$ in (a), we will get\n",
    "\n",
    "$\\theta_1=\\frac{c_h}{c_h+c_t}$\n",
    "\n",
    "$\\theta_2=\\frac{n_h}{(n_h+n_t)\\theta_1}=\\frac{n_h(c_h+c_t)}{(n_h+n_t)c_h}$"
   ]
  },
  {
   "cell_type": "markdown",
   "metadata": {},
   "source": [
    "### 3.4"
   ]
  },
  {
   "cell_type": "markdown",
   "metadata": {},
   "source": [
    "Given $g(\\theta_1)=\\theta_1^{h-1}(1-\\theta_1)^{t-1}$\n",
    "\n",
    "$\\theta_{1, MAP}=argmax_{\\theta_1}g(\\theta_1)L(\\theta_1, \\theta_2)$\n",
    "\n",
    "Let $\\acute{L}(\\theta_1, \\theta_2)=g(\\theta_1)L(\\theta_1, \\theta_2)$\n",
    "\n",
    "$\\acute{LL}(\\theta_1, \\theta_2)=\\big[(h-1)\\log \\theta_1+(t-1) \\log (1-\\theta_1) \\big]+ \\big[c_h\\log \\theta_1+c_t \\log(1-\\theta_1) \\big]+ \\big[n_n \\log (\\theta_1, \\theta_2)+n_t \\log(1-\\theta_1, \\theta_2)\\big]$\n",
    "\n",
    "(a)\n",
    "\n",
    "$\\frac{\\partial \\acute{NLL}}{\\partial \\theta_1}=-\\big[\\frac{h-1}{\\theta_1}-\\frac{t-1}{1-\\theta_1} \\big]-\\big[\\frac{n_h}{\\theta_1}-\\frac{\\theta_2n_t}{1-\\theta_1\\theta_2} \\big]-\\big[\\frac{c_h}{\\theta_1}-\\frac{c_t}{1-\\theta_1} \\big]=0$\n",
    "\n",
    "(b)\n",
    "\n",
    "$\\frac{\\partial \\acute{NLL}}{\\partial \\theta_2}=\\frac{n_h}{\\theta_2}-\\frac{\\theta_1n_t}{1-\\theta_1\\theta_2}=0$\n",
    "\n",
    "$\\Rightarrow \\frac{n_h}{\\theta_1n_t}=\\frac{\\theta_2}{1-\\theta_1\\theta_2}$\n",
    "\n",
    "From (a) and (b), we can obtain\n",
    "\n",
    "$\\theta_1=\\frac{c_h+h-1}{c_h+c_t+h+t-2}$\n",
    "\n",
    "$\\theta_2=\\frac{n_h}{(n_h+n_t)\\theta_1}=\\frac{n_h(c_h+c_t+h+t-2)}{(n_h+n_t)(c_h+h-1)}$\n"
   ]
  },
  {
   "cell_type": "code",
   "execution_count": null,
   "metadata": {},
   "outputs": [],
   "source": []
  }
 ],
 "metadata": {
  "kernelspec": {
   "display_name": "Python 3",
   "language": "python",
   "name": "python3"
  },
  "language_info": {
   "codemirror_mode": {
    "name": "ipython",
    "version": 3
   },
   "file_extension": ".py",
   "mimetype": "text/x-python",
   "name": "python",
   "nbconvert_exporter": "python",
   "pygments_lexer": "ipython3",
   "version": "3.7.3"
  },
  "latex_envs": {
   "LaTeX_envs_menu_present": true,
   "autoclose": false,
   "autocomplete": true,
   "bibliofile": "biblio.bib",
   "cite_by": "apalike",
   "current_citInitial": 1,
   "eqLabelWithNumbers": true,
   "eqNumInitial": 1,
   "hotkeys": {
    "equation": "Ctrl-E",
    "itemize": "Ctrl-I"
   },
   "labels_anchors": false,
   "latex_user_defs": false,
   "report_style_numbering": false,
   "user_envs_cfg": false
  },
  "varInspector": {
   "cols": {
    "lenName": 16,
    "lenType": 16,
    "lenVar": 40
   },
   "kernels_config": {
    "python": {
     "delete_cmd_postfix": "",
     "delete_cmd_prefix": "del ",
     "library": "var_list.py",
     "varRefreshCmd": "print(var_dic_list())"
    },
    "r": {
     "delete_cmd_postfix": ") ",
     "delete_cmd_prefix": "rm(",
     "library": "var_list.r",
     "varRefreshCmd": "cat(var_dic_list()) "
    }
   },
   "types_to_exclude": [
    "module",
    "function",
    "builtin_function_or_method",
    "instance",
    "_Feature"
   ],
   "window_display": false
  }
 },
 "nbformat": 4,
 "nbformat_minor": 2
}
