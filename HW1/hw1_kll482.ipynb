{
 "cells": [
  {
   "cell_type": "markdown",
   "metadata": {},
   "source": [
    "# Homework 1: Perceptron Algorithm"
   ]
  },
  {
   "cell_type": "markdown",
   "metadata": {},
   "source": [
    "Student Name: Kuan-Lin Liu <br>\n",
    "NetID: kll482\n",
    "\n",
    "---"
   ]
  },
  {
   "cell_type": "markdown",
   "metadata": {},
   "source": [
    "## Packages "
   ]
  },
  {
   "cell_type": "code",
   "execution_count": 1,
   "metadata": {
    "ExecuteTime": {
     "end_time": "2020-02-09T03:49:13.380231Z",
     "start_time": "2020-02-09T03:49:13.378259Z"
    }
   },
   "outputs": [],
   "source": [
    "#!pip install pandas\n",
    "#!pip install numpy"
   ]
  },
  {
   "cell_type": "code",
   "execution_count": 2,
   "metadata": {
    "ExecuteTime": {
     "end_time": "2020-02-09T03:49:14.525802Z",
     "start_time": "2020-02-09T03:49:13.888510Z"
    }
   },
   "outputs": [],
   "source": [
    "import pandas as pd, numpy as np\n",
    "import time\n",
    "import matplotlib.pyplot as plt"
   ]
  },
  {
   "cell_type": "markdown",
   "metadata": {},
   "source": [
    "## Question 1"
   ]
  },
  {
   "cell_type": "markdown",
   "metadata": {},
   "source": [
    "Tasks: <br>\n",
    "1. Reading spam_train.txt\n",
    "2. Splitting into training set (first 4000) and validation set (last 1000)\n",
    "3. Explaining"
   ]
  },
  {
   "cell_type": "code",
   "execution_count": 3,
   "metadata": {
    "ExecuteTime": {
     "end_time": "2020-02-09T03:49:18.622738Z",
     "start_time": "2020-02-09T03:49:18.303111Z"
    }
   },
   "outputs": [],
   "source": [
    "data_list = []\n",
    "my_path = \"/home/jovyan/shared/spam_train.txt\"\n",
    "sub_path = \"spam_train.txt\"\n",
    "with open(sub_path, \"r\") as f:\n",
    "    for line in f:\n",
    "        data_list.append([line[0], line[2:].strip(\"\\n\").split()])\n",
    "data_list = np.array(data_list)"
   ]
  },
  {
   "cell_type": "code",
   "execution_count": 4,
   "metadata": {
    "ExecuteTime": {
     "end_time": "2020-02-09T03:49:18.769052Z",
     "start_time": "2020-02-09T03:49:18.766559Z"
    }
   },
   "outputs": [],
   "source": [
    "train = data_list[:4000, :]\n",
    "validation = data_list[4000:, :]"
   ]
  },
  {
   "cell_type": "markdown",
   "metadata": {},
   "source": [
    "> The validation set which is sampled from the original training data help us tune the hyperparameters to avoid building a extremely complex model. In other words, if we only train the model on the training set, we may tend to get the best model so far. However, the model could perform really bad on the test set. In summary, without the validation set, we would be more likely to cause overfitting on the model."
   ]
  },
  {
   "cell_type": "markdown",
   "metadata": {},
   "source": [
    "---\n",
    "## Question 2"
   ]
  },
  {
   "cell_type": "markdown",
   "metadata": {},
   "source": [
    "Tasks: <br>\n",
    "1. Transforming the text into feature vectors\n",
    "2. Keeping the word appearing in more than or equal to 30 emails."
   ]
  },
  {
   "cell_type": "markdown",
   "metadata": {},
   "source": [
    "> Method 1: Getting the word list and word vector without any libraries"
   ]
  },
  {
   "cell_type": "code",
   "execution_count": 15,
   "metadata": {
    "ExecuteTime": {
     "end_time": "2020-02-09T04:32:10.608381Z",
     "start_time": "2020-02-09T04:32:09.959080Z"
    }
   },
   "outputs": [],
   "source": [
    "def getWordList(data_list):\n",
    "    word_hash = {}\n",
    "    for target, words in data_list:\n",
    "        # how many email does a word exist?\n",
    "        unique_words = np.unique(words)\n",
    "        for i in unique_words:\n",
    "            if i not in word_hash.keys():\n",
    "                word_hash[i] = 1\n",
    "            else:\n",
    "                word_hash[i] += 1\n",
    "\n",
    "    # obtain the word list (>30)\n",
    "    return np.array([k for k, v in word_hash.items() if v >= 30])\n",
    "\n",
    "# create word list based on the training set\n",
    "train_word_list = getWordList(train)"
   ]
  },
  {
   "cell_type": "code",
   "execution_count": 16,
   "metadata": {
    "ExecuteTime": {
     "end_time": "2020-02-09T04:32:20.978219Z",
     "start_time": "2020-02-09T04:32:20.127710Z"
    }
   },
   "outputs": [],
   "source": [
    "def transformToFeatures(word_list, data_list):\n",
    "    # build a dict of words for search: O(1)\n",
    "    word_dict = {value: index for index, value in enumerate(word_list)}\n",
    "    \n",
    "    # initializing a n*m array (n=# of emails; m=# of words)\n",
    "    array_of_features = np.zeros((len(data_list), len(word_list)))\n",
    "    \n",
    "    # For every words in each email, see if it is in the word_dict by\n",
    "    index_email = 0\n",
    "    for target, words in data_list:\n",
    "        for w in np.unique(words):\n",
    "            if word_dict.get(w) is not None:\n",
    "                array_of_features[index_email, word_dict.get(w)] = 1\n",
    "        index_email += 1\n",
    "    return array_of_features\n",
    "                \n",
    "train_features_vector = transformToFeatures(train_word_list, train)\n",
    "validation_features_vector = transformToFeatures(train_word_list, validation)"
   ]
  },
  {
   "cell_type": "code",
   "execution_count": 17,
   "metadata": {
    "ExecuteTime": {
     "end_time": "2020-02-09T04:32:21.001191Z",
     "start_time": "2020-02-09T04:32:20.998398Z"
    },
    "scrolled": true
   },
   "outputs": [
    {
     "name": "stdout",
     "output_type": "stream",
     "text": [
      "(4000, 2376)\n",
      "(1000, 2376)\n"
     ]
    }
   ],
   "source": [
    "print(train_features_vector.shape)\n",
    "print(validation_features_vector.shape)"
   ]
  },
  {
   "cell_type": "markdown",
   "metadata": {},
   "source": [
    "## Question 3"
   ]
  },
  {
   "cell_type": "code",
   "execution_count": 41,
   "metadata": {
    "ExecuteTime": {
     "end_time": "2020-02-09T04:44:32.348235Z",
     "start_time": "2020-02-09T04:44:32.339115Z"
    }
   },
   "outputs": [],
   "source": [
    "def signFunc(x):\n",
    "    if x >= 0:\n",
    "        return 1\n",
    "    else:\n",
    "        return -1\n",
    "    \n",
    "def perceptron_train(data, max_iter=None, avg_func=False):\n",
    "    '''\n",
    "    1. data is a two D array with the target variable in the first column and feature set in the rest\n",
    "    2. The target variable should be -1 or 1 \n",
    "    '''\n",
    "    # initials\n",
    "    w = np.zeros(data.shape[1]-1)\n",
    "    error = 1 # for while loop\n",
    "    batch = 0 # number of iteration\n",
    "    k = 0 # number of updating\n",
    "    iteration = 0\n",
    "    sum_w = np.zeros(data.shape[1]-1) # for counting the final average of weights\n",
    "    while error != 0:\n",
    "        error = 0\n",
    "        batch += 1\n",
    "        for i in range(data.shape[0]):\n",
    "            x = data[i, 1:]\n",
    "            y = data[i, 0] # a number; not an array\n",
    "            if signFunc(np.dot(w, x)) != y:\n",
    "                error += 1\n",
    "                w += y*x\n",
    "            iteration += 1\n",
    "            sum_w += w\n",
    "        k += error\n",
    "        \n",
    "        if batch == max_iter:\n",
    "            break\n",
    "    \n",
    "    # Return \n",
    "    if avg_func:\n",
    "        return sum_w/iteration, k, batch\n",
    "    else:\n",
    "        return w, k, batch\n",
    "\n",
    "def perceptron_test(w, data):\n",
    "    # initializing\n",
    "    x = data[:, 1:]\n",
    "    y = np.array(data[:, 0])\n",
    "    \n",
    "    pred_value = np.dot(x, w)\n",
    "    sign_vectorizer = np.vectorize(signFunc)\n",
    "    sign_pred_value = sign_vectorizer(pred_value)\n",
    "    \n",
    "    return 1-(sum(sign_pred_value==y)/len(y)) # 1-number of right prediction"
   ]
  },
  {
   "cell_type": "markdown",
   "metadata": {},
   "source": [
    "## Question 4"
   ]
  },
  {
   "cell_type": "markdown",
   "metadata": {},
   "source": [
    "> Combining the target variable and the feature sets into a new array for both training and validation set."
   ]
  },
  {
   "cell_type": "code",
   "execution_count": 19,
   "metadata": {
    "ExecuteTime": {
     "end_time": "2020-02-09T04:32:29.592336Z",
     "start_time": "2020-02-09T04:32:29.523396Z"
    }
   },
   "outputs": [],
   "source": [
    "# Merge the target variable and the feature vectors into a DataFrame\n",
    "y_train = np.array([[-1 if x==0 else 1 for x in train[:, 0].astype(int)]]) # 2D\n",
    "train_array = np.concatenate((y_train.T, train_features_vector), axis=1)\n",
    "\n",
    "y_val = np.array([[-1 if x==0 else 1 for x in validation[:, 0].astype(int)]]) # 2D\n",
    "val_array = np.concatenate((y_val.T, validation_features_vector), axis=1)"
   ]
  },
  {
   "cell_type": "markdown",
   "metadata": {},
   "source": [
    "> Train and then test the model on the validation set"
   ]
  },
  {
   "cell_type": "code",
   "execution_count": 26,
   "metadata": {
    "ExecuteTime": {
     "end_time": "2020-02-09T04:35:34.027374Z",
     "start_time": "2020-02-09T04:35:33.763339Z"
    }
   },
   "outputs": [
    {
     "name": "stdout",
     "output_type": "stream",
     "text": [
      "447 11\n"
     ]
    }
   ],
   "source": [
    "train_result = perceptron_train(train_array)\n",
    "w, k, iteration = train_result\n",
    "print(k, iteration)"
   ]
  },
  {
   "cell_type": "code",
   "execution_count": 28,
   "metadata": {
    "ExecuteTime": {
     "end_time": "2020-02-09T04:35:45.455833Z",
     "start_time": "2020-02-09T04:35:45.412097Z"
    }
   },
   "outputs": [
    {
     "name": "stdout",
     "output_type": "stream",
     "text": [
      "The training error is: 0.0\n",
      "--------------------\n",
      "The validation error is: 0.020000000000000018\n"
     ]
    }
   ],
   "source": [
    "print(\"The training error is:\", perceptron_test(train_result[0], train_array))\n",
    "print(\"-\" * 20)\n",
    "print(\"The validation error is:\", perceptron_test(train_result[0], val_array))"
   ]
  },
  {
   "cell_type": "markdown",
   "metadata": {},
   "source": [
    "## Question 5"
   ]
  },
  {
   "cell_type": "code",
   "execution_count": 38,
   "metadata": {
    "ExecuteTime": {
     "end_time": "2020-02-09T04:41:35.348751Z",
     "start_time": "2020-02-09T04:41:35.339745Z"
    }
   },
   "outputs": [
    {
     "name": "stdout",
     "output_type": "stream",
     "text": [
      "The most positive 15 words are: ['sight' 'our' 'remov' 'yourself' 'click' 'these' 'nbsp' 'pleas' 'market'\n",
      " 'guarante' 'your' 'present' 'ever' 'deathtospamdeathtospamdeathtospam'\n",
      " 'am' 'major' 'below' 'brand' 'further' 'internet' 'email' 'sincer' 'will'\n",
      " 'bodi' 'hour' 'simpl' 'basenumb' 'dollarnumb' 'you' 'contact']\n",
      "--------------------------------------------------\n",
      "The most negative 15 words are: ['but' 'wrote' 'prefer' 'and' 'i' 'reserv' 'on' 'still' 'technolog' 'sinc'\n",
      " 'copyright' 'url' 'instead' 'upgrad' 'recipi']\n"
     ]
    }
   ],
   "source": [
    "weight = train_result[0]\n",
    "desc_weight = sorted(enumerate(weight), key=lambda k: k[1], reverse=True)[:30] # (index, value)\n",
    "print(\"The most positive 15 words are:\", train_word_list[[index for index, value in desc_weight]])\n",
    "\n",
    "print(\"-\" * 50)\n",
    "\n",
    "asc_weight = sorted(enumerate(weight), key=lambda k: k[1], reverse=False)[:15]\n",
    "print(\"The most negative 15 words are:\", train_word_list[[index for index, value in asc_weight]])"
   ]
  },
  {
   "cell_type": "markdown",
   "metadata": {},
   "source": [
    "## Question 6"
   ]
  },
  {
   "cell_type": "code",
   "execution_count": 44,
   "metadata": {
    "ExecuteTime": {
     "end_time": "2020-02-09T04:44:56.287216Z",
     "start_time": "2020-02-09T04:44:56.284604Z"
    }
   },
   "outputs": [],
   "source": [
    "def averaged_perceptron_train(data, max_iter=None):\n",
    "    return perceptron_train(data, max_iter=max_iter, avg_func=True)"
   ]
  },
  {
   "cell_type": "markdown",
   "metadata": {},
   "source": [
    "## Question 7"
   ]
  },
  {
   "cell_type": "code",
   "execution_count": 45,
   "metadata": {
    "ExecuteTime": {
     "end_time": "2020-02-09T04:44:59.032746Z",
     "start_time": "2020-02-09T04:44:58.098937Z"
    }
   },
   "outputs": [
    {
     "data": {
      "image/png": "[encoded data removed]",
      "text/plain": [
       "<Figure size 576x360 with 1 Axes>"
      ]
     },
     "metadata": {
      "needs_background": "light"
     },
     "output_type": "display_data"
    }
   ],
   "source": [
    "n_sample = [100, 200, 400, 800, 2000, 4000]\n",
    "val_error = []\n",
    "avg_val_error = []\n",
    "for n in n_sample:\n",
    "    # perceptron\n",
    "    perceptron_result = perceptron_train(train_array[:n])\n",
    "    val_error.append(perceptron_test(perceptron_result[0], val_array))\n",
    "    # averaged perceptron\n",
    "    avg_perceptron_result = averaged_perceptron_train(train_array[:n])\n",
    "    avg_val_error.append(perceptron_test(avg_perceptron_result[0], val_array))\n",
    "\n",
    "plt.figure(figsize=(8,5))\n",
    "plt.plot(n_sample, val_error, c=\"red\")\n",
    "plt.plot(n_sample, avg_val_error, c = \"blue\")\n",
    "plt.xlabel(\"Number of Rows\")\n",
    "plt.ylabel(\"Validation Error\")\n",
    "plt.xticks(ticks=n_sample,rotation=90)\n",
    "plt.legend(labels=[\"Perceptron\", \"Averaged Perceptron\"])\n",
    "plt.show()"
   ]
  },
  {
   "cell_type": "markdown",
   "metadata": {},
   "source": [
    "## Question 8"
   ]
  },
  {
   "cell_type": "code",
   "execution_count": 46,
   "metadata": {
    "ExecuteTime": {
     "end_time": "2020-02-09T04:45:12.722810Z",
     "start_time": "2020-02-09T04:45:12.199173Z"
    }
   },
   "outputs": [
    {
     "data": {
      "image/png": "[encoded data removed]",
      "text/plain": [
       "<Figure size 576x360 with 1 Axes>"
      ]
     },
     "metadata": {
      "needs_background": "light"
     },
     "output_type": "display_data"
    }
   ],
   "source": [
    "n_sample = [100, 200, 400, 800, 2000, 4000]\n",
    "iter_freq = []\n",
    "for n in n_sample:\n",
    "    iter_freq.append(perceptron_train(train_array[:n])[2])\n",
    "\n",
    "plt.figure(figsize=(8,5))\n",
    "plt.plot(n_sample, iter_freq, c=\"blue\")\n",
    "plt.xlabel(\"Number of Rows\")\n",
    "plt.ylabel(\"Iteration of Perceptron\")\n",
    "plt.xticks(ticks=n_sample,rotation=90)\n",
    "plt.show()"
   ]
  },
  {
   "cell_type": "markdown",
   "metadata": {},
   "source": [
    "## Question 9, 10"
   ]
  },
  {
   "cell_type": "code",
   "execution_count": 47,
   "metadata": {
    "ExecuteTime": {
     "end_time": "2020-02-09T04:47:15.632274Z",
     "start_time": "2020-02-09T04:47:12.526391Z"
    }
   },
   "outputs": [
    {
     "data": {
      "image/png": "[encoded data removed]",
      "text/plain": [
       "<Figure size 576x360 with 1 Axes>"
      ]
     },
     "metadata": {
      "needs_background": "light"
     },
     "output_type": "display_data"
    }
   ],
   "source": [
    "batch = range(1, 11)\n",
    "train_val_error = []\n",
    "avg_train_val_error = []\n",
    "for i in batch:\n",
    "    # perceptron\n",
    "    perc_train_result = perceptron_train(train_array, max_iter=i)\n",
    "    train_val_error.append((perceptron_test(perc_train_result[0], train_array),\n",
    "                      perceptron_test(perc_train_result[0], val_array)))\n",
    "    # averaged perceptron\n",
    "    avg_perc_train_result = perceptron_train(train_array, max_iter=i, avg_func=True)\n",
    "    avg_train_val_error.append((perceptron_test(avg_perc_train_result[0], train_array),\n",
    "                          perceptron_test(avg_perc_train_result[0], val_array)))\n",
    "\n",
    "plt.figure(figsize=(8,5))\n",
    "plt.plot(batch, [train for train, val in train_val_error], c=\"green\", ls=\"--\")\n",
    "plt.plot(batch, [train for train, val in avg_train_val_error], c=\"black\", ls=\"--\")                       \n",
    "plt.plot(batch, [val for train, val in train_val_error], c=\"red\")\n",
    "plt.plot(batch, [val for train, val in avg_train_val_error], c=\"blue\")\n",
    "plt.xlabel(\"Number of Iteration\")\n",
    "plt.ylabel(\"Classification Error\")\n",
    "plt.xticks(ticks=batch,rotation=90)\n",
    "plt.legend(labels=[\"Perceptron on Training Set\", \"Averaged Perceptron on Training Set\",\n",
    "                   \"Perceptron on Validation Set\", \"Averaged Perceptron on Validation Set\"])\n",
    "plt.show()"
   ]
  },
  {
   "cell_type": "code",
   "execution_count": 53,
   "metadata": {
    "ExecuteTime": {
     "end_time": "2020-02-09T04:54:19.275013Z",
     "start_time": "2020-02-09T04:54:19.271390Z"
    }
   },
   "outputs": [
    {
     "name": "stdout",
     "output_type": "stream",
     "text": [
      "[0.020000000000000018, 0.018000000000000016, 0.017000000000000015, 0.017000000000000015, 0.016000000000000014, 0.017000000000000015, 0.018000000000000016, 0.018000000000000016, 0.017000000000000015, 0.016000000000000014]\n",
      "[ 5 10  3  4  6  9  2  7  8  1]\n"
     ]
    }
   ],
   "source": [
    "print([val for train, val in avg_train_val_error])\n",
    "print(np.argsort([val for train, val in avg_train_val_error])+1)"
   ]
  },
  {
   "cell_type": "markdown",
   "metadata": {},
   "source": [
    "Overall, the averaged perceptron model surpass the standard perceptron with lower validation error on each iteration. Especially, when I take the number of iteration as `5` or `10`, I can obtain the lowest validation error on the averaged perceptron."
   ]
  },
  {
   "cell_type": "markdown",
   "metadata": {},
   "source": [
    "## Question 11"
   ]
  },
  {
   "cell_type": "code",
   "execution_count": 54,
   "metadata": {
    "ExecuteTime": {
     "end_time": "2020-02-09T04:56:25.691100Z",
     "start_time": "2020-02-09T04:56:25.450987Z"
    }
   },
   "outputs": [],
   "source": [
    "# Reading in the test set\n",
    "my_path = \"/home/jovyan/shared/spam_test.txt\"\n",
    "sub_path = \"spam_test.txt\"\n",
    "test_data = []\n",
    "with open(sub_path, \"r\") as f:\n",
    "    for line in f:\n",
    "        test_data.append([line[0], line[2:].strip(\"\\n\").split()])\n",
    "test_data = np.array(test_data)\n",
    "# Preprocessing\n",
    "test_features_vector = transformToFeatures(train_word_list, test_data)\n",
    "y_test = np.array([[-1 if x==0 else 1 for x in test_data[:, 0].astype(int)]]) # 2D\n",
    "test_array = np.concatenate((y_test.T, test_features_vector), axis=1)"
   ]
  },
  {
   "cell_type": "code",
   "execution_count": 55,
   "metadata": {
    "ExecuteTime": {
     "end_time": "2020-02-09T04:58:00.555815Z",
     "start_time": "2020-02-09T04:58:00.223123Z"
    }
   },
   "outputs": [
    {
     "name": "stdout",
     "output_type": "stream",
     "text": [
      "The testing error for 5 iteration is: 0.019000000000000017\n",
      "The testing error for 10 iteration is: 0.019000000000000017\n"
     ]
    }
   ],
   "source": [
    "# Train and Test\n",
    "full_train_array = np.concatenate((train_array, val_array))\n",
    "result_5 = perceptron_train(full_train_array, max_iter=5, avg_func=True)\n",
    "result_10 = perceptron_train(full_train_array, max_iter=5, avg_func=True)\n",
    "print(\"The testing error for 5 iteration is:\", perceptron_test(result_5[0], test_array))\n",
    "print(\"The testing error for 10 iteration is:\", perceptron_test(result_10[0], test_array))"
   ]
  }
 ],
 "metadata": {
  "kernelspec": {
   "display_name": "Python 3",
   "language": "python",
   "name": "python3"
  },
  "language_info": {
   "codemirror_mode": {
    "name": "ipython",
    "version": 3
   },
   "file_extension": ".py",
   "mimetype": "text/x-python",
   "name": "python",
   "nbconvert_exporter": "python",
   "pygments_lexer": "ipython3",
   "version": "3.7.3"
  },
  "latex_envs": {
   "LaTeX_envs_menu_present": true,
   "autoclose": false,
   "autocomplete": true,
   "bibliofile": "biblio.bib",
   "cite_by": "apalike",
   "current_citInitial": 1,
   "eqLabelWithNumbers": true,
   "eqNumInitial": 1,
   "hotkeys": {
    "equation": "Ctrl-E",
    "itemize": "Ctrl-I"
   },
   "labels_anchors": false,
   "latex_user_defs": false,
   "report_style_numbering": false,
   "user_envs_cfg": false
  },
  "toc": {
   "base_numbering": 1,
   "nav_menu": {},
   "number_sections": true,
   "sideBar": true,
   "skip_h1_title": false,
   "title_cell": "Table of Contents",
   "title_sidebar": "Contents",
   "toc_cell": false,
   "toc_position": {},
   "toc_section_display": true,
   "toc_window_display": false
  },
  "varInspector": {
   "cols": {
    "lenName": 16,
    "lenType": 16,
    "lenVar": 40
   },
   "kernels_config": {
    "python": {
     "delete_cmd_postfix": "",
     "delete_cmd_prefix": "del ",
     "library": "var_list.py",
     "varRefreshCmd": "print(var_dic_list())"
    },
    "r": {
     "delete_cmd_postfix": ") ",
     "delete_cmd_prefix": "rm(",
     "library": "var_list.r",
     "varRefreshCmd": "cat(var_dic_list()) "
    }
   },
   "types_to_exclude": [
    "module",
    "function",
    "builtin_function_or_method",
    "instance",
    "_Feature"
   ],
   "window_display": false
  }
 },
 "nbformat": 4,
 "nbformat_minor": 4
}
