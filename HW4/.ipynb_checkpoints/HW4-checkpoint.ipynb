{
 "cells": [
  {
   "cell_type": "markdown",
   "metadata": {},
   "source": [
    "# Homework 4: Support Vector Machines and Kernels"
   ]
  },
  {
   "cell_type": "markdown",
   "metadata": {},
   "source": [
    "Student Name: Kuan-Lin Liu\n",
    "    \n",
    "NetID: kll482"
   ]
  },
  {
   "cell_type": "markdown",
   "metadata": {},
   "source": [
    "## 1. Perceptron"
   ]
  },
  {
   "cell_type": "markdown",
   "metadata": {},
   "source": [
    "### 1.1\n",
    "\n",
    "Given $g \\in \\partial{f_k(x)}$, we have $f_k(z) \\geq f_k(x) + g^T(z-x)$, $\\forall z$\n",
    "\n",
    "By definition,\n",
    "\n",
    "$$f_k(z)=f(z) \\geq f_k(x)+g^T(z-x)=f(x)+g^T(z-x), \\forall z$$\n",
    "\n",
    "Therefore,\n",
    "\n",
    "$$f(z) \\geq f(x)+g^T(z-x), \\forall z$$\n",
    "\n",
    "which shows,\n",
    "\n",
    "$$g \\in \\partial{f(x)}$$"
   ]
  },
  {
   "cell_type": "markdown",
   "metadata": {},
   "source": [
    "### 1.2\n",
    "\n",
    "$$f(x)=\n",
    "\\begin{cases}\n",
    "\\ 0& 1-y_i{x_i}^T w^{(k)} ≤ 0\\\\\n",
    "\\ {-y_ix_i}& else \\\\\n",
    "\\end{cases}$$\n"
   ]
  },
  {
   "cell_type": "markdown",
   "metadata": {},
   "source": [
    "### 1.3\n",
    "\n",
    "Given $\\{x|w^Tx=0\\}$ is a separating hyperplane, we know\n",
    "\n",
    "$$y_i\\hat{y_i} = y_iw^Tx_i > 0, \\forall i \\in \\{1,...,n\\}$$\n",
    "\n",
    "Then,\n",
    "\n",
    "$$R_{emp}=\\frac{1}{n} \\sum_{i=1}^n max\\{0, -y_i\\hat{y_i}\\}=\\frac{1}{n}*n*0=0$$\n",
    "\n",
    "Therefore, we know a separating hyperplane of $\\mathcal{D}$ is an empirical risk minimizer for perceptron loss."
   ]
  },
  {
   "cell_type": "markdown",
   "metadata": {
    "ExecuteTime": {
     "end_time": "2020-03-24T05:31:57.222836Z",
     "start_time": "2020-03-24T05:31:57.220590Z"
    }
   },
   "source": [
    "### 1.4\n",
    "\n",
    "By the answer of 1.2, the subgradient of perceptron loss is\n",
    "\n",
    "$$\\partial \\mathscr{l}(\\hat{y},y)=\\begin{cases}\n",
    "\\ {-y_ix_i}& y_i{x_i}^T w^{(k)} ≤ 0\\\\\n",
    "\\ 0& else \\\\\n",
    "\\end{cases}$$\n",
    "\n",
    "Since we have the step size 1 for SSGD, we would update $w$ by either $w^{(k+1)}=w^{(k)}+y_ix_i$ if $y_i{x_i}^T w^{(k)} \\leq 0$ or $w^{(k+1)}=w^{(k)}$ if $y_i{x_i}^T w^{(k)} > 0$. This is the same step as the one in Perceptron Algorithm."
   ]
  },
  {
   "cell_type": "markdown",
   "metadata": {},
   "source": [
    "### 1.5\n",
    "\n",
    "Assume $\\alpha$ is an indicator vector, \n",
    "\n",
    "$$\\alpha_i=\n",
    "\\begin{cases}\n",
    "1& y_i{x_i}^T w^{(k)} ≤ 0\\\\\n",
    "0& else\n",
    "\\end{cases}$$\n",
    "\n",
    "From the pseudocode, we know\n",
    "\n",
    "$$w^{(k)} = (\\alpha_iy_ix_i)^{(k-1)} + (\\alpha_iy_ix_i)^{(k-2)} + (\\alpha_iy_ix_i)^{(k-3)} + ... + (\\alpha_iy_ix_i)^{(1)} + w^{(0)}$$\n",
    "\n",
    "<br>\n",
    "\n",
    "$\\because \\alpha \\in \\{0, 1\\}; y \\in \\{1, -1\\}$ \n",
    "\n",
    "$\\therefore w$ is a linear combination of the inputs, $x$."
   ]
  },
  {
   "cell_type": "markdown",
   "metadata": {},
   "source": [
    "## 2. Sparse Representations"
   ]
  },
  {
   "cell_type": "markdown",
   "metadata": {},
   "source": [
    "### 2.1"
   ]
  },
  {
   "cell_type": "code",
   "execution_count": 2,
   "metadata": {
    "ExecuteTime": {
     "end_time": "2020-03-24T06:13:46.570477Z",
     "start_time": "2020-03-24T06:13:46.568040Z"
    }
   },
   "outputs": [],
   "source": [
    "import os\n",
    "import numpy as np\n",
    "import pickle\n",
    "import random"
   ]
  },
  {
   "cell_type": "code",
   "execution_count": 12,
   "metadata": {
    "ExecuteTime": {
     "end_time": "2020-03-24T06:27:42.264167Z",
     "start_time": "2020-03-24T06:27:42.259967Z"
    }
   },
   "outputs": [],
   "source": [
    "def read_data(file):\n",
    "    '''\n",
    "    Read each file into a list of strings.\n",
    "    Example:\n",
    "    [\"it's\", 'a', 'curious', 'thing', \"i've\", 'found', 'that', 'when', 'willis', 'is', 'not', 'called', 'on',\n",
    "    ...'to', 'carry', 'the', 'whole', 'movie', \"he's\", 'much', 'better', 'and', 'so', 'is', 'the', 'movie']\n",
    "    '''\n",
    "    f = open(file)\n",
    "    lines = f.read().split(' ') # already split by space; sentence -> word\n",
    "    symbols = '${}()[].,:;+-*/&|<>=~\" '\n",
    "    words = map(lambda Element: Element.translate(str.maketrans(\"\", \"\", symbols)).strip(), lines) # maketrans: If three arguments are passed, each character in the third argument is mapped to None\n",
    "    words = filter(None, words) # if an element is None, it will be filtered out.\n",
    "    return list(words)"
   ]
  },
  {
   "cell_type": "code",
   "execution_count": 13,
   "metadata": {
    "ExecuteTime": {
     "end_time": "2020-03-24T06:28:36.202104Z",
     "start_time": "2020-03-24T06:28:36.198240Z"
    }
   },
   "outputs": [],
   "source": [
    "def folder_list(path,label):\n",
    "    '''\n",
    "    PARAMETER PATH IS THE PATH OF YOUR LOCAL FOLDER\n",
    "    '''\n",
    "    filelist = os.listdir(path)\n",
    "    review = []\n",
    "    for infile in filelist:\n",
    "        file = os.path.join(path,infile)\n",
    "        r = read_data(file)\n",
    "        r.append(label)\n",
    "        review.append(r) # review is a list of lists\n",
    "    return review"
   ]
  },
  {
   "cell_type": "code",
   "execution_count": 23,
   "metadata": {
    "ExecuteTime": {
     "end_time": "2020-03-24T06:32:46.321078Z",
     "start_time": "2020-03-24T06:32:46.317699Z"
    }
   },
   "outputs": [],
   "source": [
    "def shuffle_data():\n",
    "    pos_path = \"data/pos\"\n",
    "    neg_path = \"data/neg\"\n",
    "\n",
    "    pos_review = folder_list(pos_path,1)\n",
    "    neg_review = folder_list(neg_path,-1)\n",
    "\n",
    "    review = pos_review + neg_review\n",
    "    random.seed(123)\n",
    "    random.shuffle(review)\n",
    "    \n",
    "    return review"
   ]
  },
  {
   "cell_type": "code",
   "execution_count": 24,
   "metadata": {
    "ExecuteTime": {
     "end_time": "2020-03-24T06:33:22.225908Z",
     "start_time": "2020-03-24T06:33:20.039134Z"
    }
   },
   "outputs": [],
   "source": [
    "shuffled = shuffle_data() # read and shuffle\n",
    "train = shuffled[:1500]\n",
    "val = shuffled[1500:]"
   ]
  },
  {
   "cell_type": "markdown",
   "metadata": {
    "ExecuteTime": {
     "end_time": "2020-03-24T06:32:16.332532Z",
     "start_time": "2020-03-24T06:32:16.329173Z"
    }
   },
   "source": [
    "### 2.2"
   ]
  },
  {
   "cell_type": "code",
   "execution_count": 25,
   "metadata": {
    "ExecuteTime": {
     "end_time": "2020-03-24T17:15:56.259103Z",
     "start_time": "2020-03-24T17:15:56.256595Z"
    }
   },
   "outputs": [],
   "source": [
    "from collections import Counter"
   ]
  },
  {
   "cell_type": "code",
   "execution_count": 27,
   "metadata": {
    "ExecuteTime": {
     "end_time": "2020-03-24T17:18:26.906873Z",
     "start_time": "2020-03-24T17:18:26.904421Z"
    }
   },
   "outputs": [],
   "source": [
    "def SparseBOW(word_list):\n",
    "    return Counter(word_list)"
   ]
  },
  {
   "cell_type": "markdown",
   "metadata": {},
   "source": [
    "## 3. SVM with via Pegasos"
   ]
  },
  {
   "cell_type": "markdown",
   "metadata": {},
   "source": [
    "### 3.1\n",
    "\n",
    "We know hinge loss and $||w||^2$ is convex, so\n",
    "\n",
    "$$\\partial J_i(w)=\\begin{cases}\n",
    "\\lambda ||w||-y_ix_i& 1-y_iw^T{x_i}^T > 0\\\\\n",
    "0& else\n",
    "\\end{cases}$$"
   ]
  },
  {
   "cell_type": "code",
   "execution_count": null,
   "metadata": {},
   "outputs": [],
   "source": []
  }
 ],
 "metadata": {
  "kernelspec": {
   "display_name": "Python 3",
   "language": "python",
   "name": "python3"
  },
  "language_info": {
   "codemirror_mode": {
    "name": "ipython",
    "version": 3
   },
   "file_extension": ".py",
   "mimetype": "text/x-python",
   "name": "python",
   "nbconvert_exporter": "python",
   "pygments_lexer": "ipython3",
   "version": "3.7.3"
  },
  "latex_envs": {
   "LaTeX_envs_menu_present": true,
   "autoclose": false,
   "autocomplete": true,
   "bibliofile": "biblio.bib",
   "cite_by": "apalike",
   "current_citInitial": 1,
   "eqLabelWithNumbers": true,
   "eqNumInitial": 1,
   "hotkeys": {
    "equation": "Ctrl-E",
    "itemize": "Ctrl-I"
   },
   "labels_anchors": false,
   "latex_user_defs": false,
   "report_style_numbering": false,
   "user_envs_cfg": false
  },
  "varInspector": {
   "cols": {
    "lenName": 16,
    "lenType": 16,
    "lenVar": 40
   },
   "kernels_config": {
    "python": {
     "delete_cmd_postfix": "",
     "delete_cmd_prefix": "del ",
     "library": "var_list.py",
     "varRefreshCmd": "print(var_dic_list())"
    },
    "r": {
     "delete_cmd_postfix": ") ",
     "delete_cmd_prefix": "rm(",
     "library": "var_list.r",
     "varRefreshCmd": "cat(var_dic_list()) "
    }
   },
   "types_to_exclude": [
    "module",
    "function",
    "builtin_function_or_method",
    "instance",
    "_Feature"
   ],
   "window_display": false
  }
 },
 "nbformat": 4,
 "nbformat_minor": 2
}
