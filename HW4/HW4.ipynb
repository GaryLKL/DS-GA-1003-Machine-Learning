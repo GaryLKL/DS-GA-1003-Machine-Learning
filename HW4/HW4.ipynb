{
 "cells": [
  {
   "cell_type": "markdown",
   "metadata": {},
   "source": [
    "# Homework 4: Support Vector Machines and Kernels"
   ]
  },
  {
   "cell_type": "markdown",
   "metadata": {},
   "source": [
    "Student Name: Kuan-Lin Liu\n",
    "    \n",
    "NetID: kll482"
   ]
  },
  {
   "cell_type": "markdown",
   "metadata": {},
   "source": [
    "## 1. Perceptron"
   ]
  },
  {
   "cell_type": "markdown",
   "metadata": {},
   "source": [
    "### 1.1\n",
    "\n",
    "Given $g \\in \\partial{f_k(x)}$, we have $f_k(z) \\geq f_k(x) + g^T(z-x)$, $\\forall z$\n",
    "\n",
    "By definition,\n",
    "\n",
    "$$f_k(z)=f(z) \\geq f_k(x)+g^T(z-x)=f(x)+g^T(z-x), \\forall z$$\n",
    "\n",
    "Therefore,\n",
    "\n",
    "$$f(z) \\geq f(x)+g^T(z-x), \\forall z$$\n",
    "\n",
    "which shows,\n",
    "\n",
    "$$g \\in \\partial{f(x)}$$"
   ]
  },
  {
   "cell_type": "markdown",
   "metadata": {},
   "source": [
    "### 1.2\n",
    "\n",
    "$$f(x)=\n",
    "\\begin{cases}\n",
    "\\ 0& 1-y_i{x_i}^T w^{(k)} ≤ 0\\\\\n",
    "\\ {-y_ix_i}& else \\\\\n",
    "\\end{cases}$$\n"
   ]
  },
  {
   "cell_type": "markdown",
   "metadata": {},
   "source": [
    "### 1.3\n",
    "\n",
    "Given $\\{x|w^Tx=0\\}$ is a separating hyperplane, we know\n",
    "\n",
    "$$y_i\\hat{y_i} = y_iw^Tx_i > 0, \\forall i \\in \\{1,...,n\\}$$\n",
    "\n",
    "Then,\n",
    "\n",
    "$$R_{emp}=\\frac{1}{n} \\sum_{i=1}^n max\\{0, -y_i\\hat{y_i}\\}=\\frac{1}{n}*n*0=0$$\n",
    "\n",
    "Therefore, we know a separating hyperplane of $\\mathcal{D}$ is an empirical risk minimizer for perceptron loss."
   ]
  },
  {
   "cell_type": "markdown",
   "metadata": {
    "ExecuteTime": {
     "end_time": "2020-03-24T05:31:57.222836Z",
     "start_time": "2020-03-24T05:31:57.220590Z"
    }
   },
   "source": [
    "### 1.4\n",
    "\n",
    "By the answer of 1.2, the subgradient of perceptron loss is\n",
    "\n",
    "$$\\partial \\mathscr{l}(\\hat{y},y)=\\begin{cases}\n",
    "\\ {-y_ix_i}& y_i{x_i}^T w^{(k)} ≤ 0\\\\\n",
    "\\ 0& else \\\\\n",
    "\\end{cases}$$\n",
    "\n",
    "Since we have the step size 1 for SSGD, we would update $w$ by either $w^{(k+1)}=w^{(k)}+y_ix_i$ if $y_i{x_i}^T w^{(k)} \\leq 0$ or $w^{(k+1)}=w^{(k)}$ if $y_i{x_i}^T w^{(k)} > 0$. This is the same step as the one in Perceptron Algorithm."
   ]
  },
  {
   "cell_type": "markdown",
   "metadata": {},
   "source": [
    "### 1.5\n",
    "\n",
    "Assume $\\alpha$ is an indicator vector, \n",
    "\n",
    "$$\\alpha_i=\n",
    "\\begin{cases}\n",
    "1& y_i{x_i}^T w^{(k)} ≤ 0\\\\\n",
    "0& else\n",
    "\\end{cases}$$\n",
    "\n",
    "From the pseudocode, we know\n",
    "\n",
    "$$w^{(k)} = (\\alpha_iy_ix_i)^{(k-1)} + (\\alpha_iy_ix_i)^{(k-2)} + (\\alpha_iy_ix_i)^{(k-3)} + ... + (\\alpha_iy_ix_i)^{(1)} + w^{(0)}$$\n",
    "\n",
    "<br>\n",
    "\n",
    "$\\because \\alpha \\in \\{0, 1\\}; y \\in \\{1, -1\\}$ \n",
    "\n",
    "$\\therefore w$ is a linear combination of the inputs, $x$."
   ]
  },
  {
   "cell_type": "markdown",
   "metadata": {},
   "source": [
    "## 2. Sparse Representations"
   ]
  },
  {
   "cell_type": "markdown",
   "metadata": {},
   "source": [
    "### 2.1"
   ]
  },
  {
   "cell_type": "code",
   "execution_count": 1,
   "metadata": {
    "ExecuteTime": {
     "end_time": "2020-03-31T05:34:01.691492Z",
     "start_time": "2020-03-31T05:34:01.561326Z"
    }
   },
   "outputs": [],
   "source": [
    "import os\n",
    "import numpy as np\n",
    "import pickle\n",
    "import random\n",
    "from load import read_data, folder_list"
   ]
  },
  {
   "cell_type": "code",
   "execution_count": 2,
   "metadata": {
    "ExecuteTime": {
     "end_time": "2020-03-31T05:34:01.695363Z",
     "start_time": "2020-03-31T05:34:01.692655Z"
    }
   },
   "outputs": [],
   "source": [
    "def shuffle_data_with_seed():\n",
    "    pos_path = \"data/pos\"\n",
    "    neg_path = \"data/neg\"\n",
    "\n",
    "    pos_review = folder_list(pos_path,1)\n",
    "    neg_review = folder_list(neg_path,-1)\n",
    "\n",
    "    review = pos_review + neg_review\n",
    "    random.seed(123)\n",
    "    random.shuffle(review)\n",
    "    \n",
    "    return review"
   ]
  },
  {
   "cell_type": "code",
   "execution_count": 3,
   "metadata": {
    "ExecuteTime": {
     "end_time": "2020-03-31T05:34:04.342544Z",
     "start_time": "2020-03-31T05:34:01.697188Z"
    }
   },
   "outputs": [],
   "source": [
    "shuffled = shuffle_data_with_seed() # read and shuffle\n",
    "train = shuffled[:1500]\n",
    "val = shuffled[1500:]"
   ]
  },
  {
   "cell_type": "markdown",
   "metadata": {
    "ExecuteTime": {
     "end_time": "2020-03-24T06:32:16.332532Z",
     "start_time": "2020-03-24T06:32:16.329173Z"
    }
   },
   "source": [
    "### 2.2"
   ]
  },
  {
   "cell_type": "code",
   "execution_count": 4,
   "metadata": {
    "ExecuteTime": {
     "end_time": "2020-03-31T05:34:04.346902Z",
     "start_time": "2020-03-31T05:34:04.344083Z"
    }
   },
   "outputs": [],
   "source": [
    "from collections import Counter"
   ]
  },
  {
   "cell_type": "code",
   "execution_count": 5,
   "metadata": {
    "ExecuteTime": {
     "end_time": "2020-03-31T05:34:04.350556Z",
     "start_time": "2020-03-31T05:34:04.348479Z"
    }
   },
   "outputs": [],
   "source": [
    "def SparseBOW(word_list):\n",
    "    return Counter(word_list)"
   ]
  },
  {
   "cell_type": "code",
   "execution_count": 6,
   "metadata": {
    "ExecuteTime": {
     "end_time": "2020-03-31T05:34:04.400674Z",
     "start_time": "2020-03-31T05:34:04.351724Z"
    }
   },
   "outputs": [],
   "source": [
    "X_train = [row[:-1] for row in train]\n",
    "y_train = [row[-1] for row in train]\n",
    "X_val = [row[:-1] for row in val]\n",
    "y_val = [row[-1] for row in val]"
   ]
  },
  {
   "cell_type": "code",
   "execution_count": 7,
   "metadata": {
    "ExecuteTime": {
     "end_time": "2020-03-31T05:34:04.518515Z",
     "start_time": "2020-03-31T05:34:04.401893Z"
    }
   },
   "outputs": [],
   "source": [
    "X_train_dict = [SparseBOW(row) for row in X_train]\n",
    "X_val_dict = [SparseBOW(row) for row in X_val]"
   ]
  },
  {
   "cell_type": "markdown",
   "metadata": {},
   "source": [
    "## 3. SVM with via Pegasos"
   ]
  },
  {
   "cell_type": "markdown",
   "metadata": {},
   "source": [
    "### 3.1\n",
    "\n",
    "We know hinge loss and $||w||^2$ is convex, so\n",
    "\n",
    "$$\\partial J_i(w)=\\begin{cases}\n",
    "\\lambda w-y_ix_i& 1-y_iw^T{x_i}^T > 0\\\\\n",
    "\\lambda w& else\n",
    "\\end{cases}$$"
   ]
  },
  {
   "cell_type": "markdown",
   "metadata": {},
   "source": [
    "### 3.2\n",
    "\n"
   ]
  },
  {
   "cell_type": "markdown",
   "metadata": {},
   "source": [
    "### 3.3\n",
    "\n",
    "In the stochastic subgradient descent, the weight is updated in the following rule:\n",
    "\n",
    "$$\\begin{cases}\n",
    "w^{(k+1)}=w^{(k)}-\\eta_t (\\lambda w^{(k)}-y_ix_i)=w^{(k)}(1-\\eta_t\\lambda)+\\eta_ty_ix_i & 1-y_iw^T{x_i}^T > 0\\\\\n",
    "w^{(k+1)}=w^{(k)}-\\eta_t\\lambda w^{(k)}=w^{(k)}(1-\\eta_t\\lambda)& else \\\\\n",
    "\\end{cases}$$\n",
    "\n",
    "This is the same as the update rule in the pseudocode."
   ]
  },
  {
   "cell_type": "markdown",
   "metadata": {},
   "source": [
    "### 3.4"
   ]
  },
  {
   "cell_type": "code",
   "execution_count": 8,
   "metadata": {
    "ExecuteTime": {
     "end_time": "2020-03-31T05:34:04.533643Z",
     "start_time": "2020-03-31T05:34:04.520095Z"
    }
   },
   "outputs": [],
   "source": [
    "from collections import defaultdict\n",
    "from tqdm import tqdm_notebook\n",
    "from util import dotProduct, increment"
   ]
  },
  {
   "cell_type": "code",
   "execution_count": 9,
   "metadata": {
    "ExecuteTime": {
     "end_time": "2020-03-31T05:34:04.539231Z",
     "start_time": "2020-03-31T05:34:04.535269Z"
    }
   },
   "outputs": [],
   "source": [
    "def svm_pegasus(X, y, lambda_reg=0.1, max_epoch=6):\n",
    "    # X is a list of dict.\n",
    "    t = 1\n",
    "    w = defaultdict(float)\n",
    "    for _ in tqdm_notebook(range(max_epoch)):\n",
    "        for ind in range(len(X)):\n",
    "            # x_i is a dictonary, y_i is a scaler\n",
    "            t += 1\n",
    "            eta = 1/(t*lambda_reg)\n",
    "            #x_i, y_i = X[ind], y[ind]\n",
    "            \n",
    "            if y[ind]*dotProduct(w, X[ind]) < 1:\n",
    "                increment(w, eta*y[ind], X[ind])\n",
    "                \n",
    "            # both conditions need to update the following line\n",
    "            increment(w, -eta*lambda_reg, w)\n",
    "            \n",
    "    return w"
   ]
  },
  {
   "cell_type": "markdown",
   "metadata": {},
   "source": [
    "### 3.5"
   ]
  },
  {
   "cell_type": "markdown",
   "metadata": {},
   "source": [
    "$w_{t+1}=s_{t+1}W_{t+1}$\n",
    "\n",
    "$=(1-\\eta_t\\lambda)s_{t}[W_t+\\frac{1}{(1-\\eta_t\\lambda)s_t}\\eta_ty_jx_j]$\n",
    "\n",
    "$=(1-\\eta_t\\lambda)s_{t}W_t+\\eta_ty_jx_j$\n",
    "\n",
    "$=(1-\\eta_t\\lambda)w_t+\\eta_ty_jx_j$\n"
   ]
  },
  {
   "cell_type": "code",
   "execution_count": 10,
   "metadata": {
    "ExecuteTime": {
     "end_time": "2020-03-31T05:34:04.545465Z",
     "start_time": "2020-03-31T05:34:04.540298Z"
    }
   },
   "outputs": [],
   "source": [
    "def svm_pegasus_faster(X, y, lambda_reg=0.1, max_epoch=6):\n",
    "    # X is a list of dict.\n",
    "    t = 1\n",
    "    s_t = 1\n",
    "    W = defaultdict(float)    \n",
    "    for _ in tqdm_notebook(range(max_epoch)):\n",
    "        for ind in range(len(X)):\n",
    "            # x_i is a dictonary, y_i is a scaler\n",
    "            t += 1\n",
    "            eta = 1/(t*lambda_reg)\n",
    "            \n",
    "            if s_t*y[ind]*dotProduct(W, X[ind]) < 1:\n",
    "                increment(W, eta*y[ind]/s_t, X[ind])\n",
    "            \n",
    "            s_t = (1-eta*lambda_reg)*s_t # when t=1, (1-eta*lambda_reg)=0. then, s_t=0.\n",
    "\n",
    "    W.update((k, v*s_t) for k, v in W.items()) \n",
    "    \n",
    "    return W"
   ]
  },
  {
   "cell_type": "markdown",
   "metadata": {},
   "source": [
    "### 3.6"
   ]
  },
  {
   "cell_type": "code",
   "execution_count": 11,
   "metadata": {
    "ExecuteTime": {
     "end_time": "2020-03-31T05:34:04.548497Z",
     "start_time": "2020-03-31T05:34:04.546504Z"
    }
   },
   "outputs": [],
   "source": [
    "from time import time"
   ]
  },
  {
   "cell_type": "code",
   "execution_count": 12,
   "metadata": {
    "ExecuteTime": {
     "end_time": "2020-03-31T05:34:54.160618Z",
     "start_time": "2020-03-31T05:34:04.550125Z"
    }
   },
   "outputs": [
    {
     "data": {
      "application/vnd.jupyter.widget-view+json": {
       "model_id": "9dcf058ca0f34a66a20691e5bc0cb933",
       "version_major": 2,
       "version_minor": 0
      },
      "text/plain": [
       "HBox(children=(IntProgress(value=0, max=6), HTML(value='')))"
      ]
     },
     "metadata": {},
     "output_type": "display_data"
    },
    {
     "name": "stdout",
     "output_type": "stream",
     "text": [
      "\n"
     ]
    }
   ],
   "source": [
    "train_pegasus = svm_pegasus(X_train_dict, y_train)"
   ]
  },
  {
   "cell_type": "code",
   "execution_count": 13,
   "metadata": {
    "ExecuteTime": {
     "end_time": "2020-03-31T05:34:54.905535Z",
     "start_time": "2020-03-31T05:34:54.162265Z"
    }
   },
   "outputs": [
    {
     "data": {
      "application/vnd.jupyter.widget-view+json": {
       "model_id": "c52cb0e76d6d4dc09c5a8ca24e069ecd",
       "version_major": 2,
       "version_minor": 0
      },
      "text/plain": [
       "HBox(children=(IntProgress(value=0, max=6), HTML(value='')))"
      ]
     },
     "metadata": {},
     "output_type": "display_data"
    },
    {
     "name": "stdout",
     "output_type": "stream",
     "text": [
      "\n"
     ]
    }
   ],
   "source": [
    "train_pegasus_faster = svm_pegasus_faster(X_train_dict, y_train)"
   ]
  },
  {
   "cell_type": "code",
   "execution_count": 14,
   "metadata": {
    "ExecuteTime": {
     "end_time": "2020-03-31T05:34:54.984040Z",
     "start_time": "2020-03-31T05:34:54.906584Z"
    }
   },
   "outputs": [
    {
     "name": "stdout",
     "output_type": "stream",
     "text": [
      "[('plot', -0.22125439373241765), ('a', -0.036574315879128974), ('downandout', 0.0016676047332736604), ('girl', -0.046663437773035776), ('moves', 0.012310508550439319), ('in', -0.016934847640683034), ('with', 0.024205969772543825), ('some', -0.01205747816693706), ('overthetop', 0.009471747364872597), ('models', 0.00610359157062008)]\n",
      "[('plot', -0.2212543937324168), ('a', -0.03657431587912881), ('downandout', 0.0016676047332736539), ('girl', -0.04666343777303576), ('moves', 0.012310508550439364), ('in', -0.016934847640682787), ('with', 0.024205969772543866), ('some', -0.012057478166937106), ('overthetop', 0.009471747364872619), ('models', 0.006103591570620092)]\n"
     ]
    }
   ],
   "source": [
    "print(list(train_pegasus_faster.items())[:10])\n",
    "print(list(train_pegasus.items())[:10])"
   ]
  },
  {
   "cell_type": "markdown",
   "metadata": {},
   "source": [
    "### 3.7"
   ]
  },
  {
   "cell_type": "code",
   "execution_count": 15,
   "metadata": {
    "ExecuteTime": {
     "end_time": "2020-03-31T05:34:54.989253Z",
     "start_time": "2020-03-31T05:34:54.985402Z"
    }
   },
   "outputs": [],
   "source": [
    "def lossfunction(w, X, y):\n",
    "    match = []\n",
    "    for ind in range(len(X)):\n",
    "        w_x = dotProduct(w, X[ind])\n",
    "        if w_x < 0:\n",
    "            y_hat = -1\n",
    "        else:\n",
    "            y_hat = 1\n",
    "        match.append(y_hat == y[ind])\n",
    "    return sum(match)/len(X)"
   ]
  },
  {
   "cell_type": "markdown",
   "metadata": {},
   "source": [
    "### 3.8"
   ]
  },
  {
   "cell_type": "code",
   "execution_count": 16,
   "metadata": {
    "ExecuteTime": {
     "end_time": "2020-03-31T05:34:54.994277Z",
     "start_time": "2020-03-31T05:34:54.990977Z"
    }
   },
   "outputs": [],
   "source": [
    "def reg_tuning(reg_list, train_X, train_y, val_X, val_y):\n",
    "    loss = {}\n",
    "    for reg in reg_list:\n",
    "        w = svm_pegasus_faster(train_X, train_y, reg, 50)\n",
    "        loss[reg] = lossfunction(w, val_X, val_y)\n",
    "    return loss"
   ]
  },
  {
   "cell_type": "code",
   "execution_count": 17,
   "metadata": {
    "ExecuteTime": {
     "end_time": "2020-03-31T05:36:10.536884Z",
     "start_time": "2020-03-31T05:34:54.995779Z"
    }
   },
   "outputs": [
    {
     "data": {
      "application/vnd.jupyter.widget-view+json": {
       "model_id": "7a38b1782733415097f8712fbbf83323",
       "version_major": 2,
       "version_minor": 0
      },
      "text/plain": [
       "HBox(children=(IntProgress(value=0, max=50), HTML(value='')))"
      ]
     },
     "metadata": {},
     "output_type": "display_data"
    },
    {
     "name": "stdout",
     "output_type": "stream",
     "text": [
      "\n"
     ]
    },
    {
     "data": {
      "application/vnd.jupyter.widget-view+json": {
       "model_id": "cb67d8699d11487fa5069e3ff49ed86b",
       "version_major": 2,
       "version_minor": 0
      },
      "text/plain": [
       "HBox(children=(IntProgress(value=0, max=50), HTML(value='')))"
      ]
     },
     "metadata": {},
     "output_type": "display_data"
    },
    {
     "name": "stdout",
     "output_type": "stream",
     "text": [
      "\n"
     ]
    },
    {
     "data": {
      "application/vnd.jupyter.widget-view+json": {
       "model_id": "cedea973fb0a4bb79e28350aff7447e4",
       "version_major": 2,
       "version_minor": 0
      },
      "text/plain": [
       "HBox(children=(IntProgress(value=0, max=50), HTML(value='')))"
      ]
     },
     "metadata": {},
     "output_type": "display_data"
    },
    {
     "name": "stdout",
     "output_type": "stream",
     "text": [
      "\n"
     ]
    },
    {
     "data": {
      "application/vnd.jupyter.widget-view+json": {
       "model_id": "abecb876b1fe4e6d863291cb6d8fc5ea",
       "version_major": 2,
       "version_minor": 0
      },
      "text/plain": [
       "HBox(children=(IntProgress(value=0, max=50), HTML(value='')))"
      ]
     },
     "metadata": {},
     "output_type": "display_data"
    },
    {
     "name": "stdout",
     "output_type": "stream",
     "text": [
      "\n"
     ]
    },
    {
     "data": {
      "application/vnd.jupyter.widget-view+json": {
       "model_id": "f10050fae71a43c781a989a567b613a0",
       "version_major": 2,
       "version_minor": 0
      },
      "text/plain": [
       "HBox(children=(IntProgress(value=0, max=50), HTML(value='')))"
      ]
     },
     "metadata": {},
     "output_type": "display_data"
    },
    {
     "name": "stdout",
     "output_type": "stream",
     "text": [
      "\n"
     ]
    },
    {
     "data": {
      "application/vnd.jupyter.widget-view+json": {
       "model_id": "0317e52953e64935853f8ebbc3567435",
       "version_major": 2,
       "version_minor": 0
      },
      "text/plain": [
       "HBox(children=(IntProgress(value=0, max=50), HTML(value='')))"
      ]
     },
     "metadata": {},
     "output_type": "display_data"
    },
    {
     "name": "stdout",
     "output_type": "stream",
     "text": [
      "\n"
     ]
    },
    {
     "data": {
      "application/vnd.jupyter.widget-view+json": {
       "model_id": "1f08a9b213534defa9aaf89e57a1d2f8",
       "version_major": 2,
       "version_minor": 0
      },
      "text/plain": [
       "HBox(children=(IntProgress(value=0, max=50), HTML(value='')))"
      ]
     },
     "metadata": {},
     "output_type": "display_data"
    },
    {
     "name": "stdout",
     "output_type": "stream",
     "text": [
      "\n",
      "{0.0006: 0.838, 0.0007999999999999999: 0.836, 0.001: 0.856, 0.002: 0.772, 0.004: 0.844, 0.006: 0.852, 0.008: 0.842}\n"
     ]
    }
   ],
   "source": [
    "# reg = np.logspace(-3, 3, 7)\n",
    "# {0.001: 0.856, 0.01: 0.848, 0.1: 0.798, 1.0: 0.816, 10.0: 0.712, 100.0: 0.508, 1000.0: 0.508}# reg = np.logspace(1, 5, 5)\n",
    "# reg = np.logspace(-6, -1, 6)\n",
    "# {1e-06: 0.836, 1e-05: 0.844, 0.0001: 0.836, 0.001: 0.856, 0.01: 0.848, 0.1: 0.798}\n",
    "reg = np.concatenate((np.linspace(0.0006, 0.001, 3), np.linspace(0.002, 0.008, 4)))\n",
    "# {0.0006: 0.838, 0.0008: 0.836, 0.001: 0.856, 0.002: 0.772, 0.004: 0.844, 0.006: 0.852, 0.008: 0.842}\n",
    "result = reg_tuning(reg, X_train_dict, y_train, X_val_dict, y_val)\n",
    "print(result)"
   ]
  },
  {
   "cell_type": "markdown",
   "metadata": {},
   "source": [
    "## 5. Kernels"
   ]
  },
  {
   "cell_type": "markdown",
   "metadata": {},
   "source": [
    "### 5.1\n",
    "\n",
    "We represent the two documents $x$ and $z$ in word vectors, $\\phi(x)$ and $\\phi(z)$, denoting whether the document contains the word. If x contains a word, \"apple\" and z doesn't, it will be 1 in the \"apple\" feature of x and 0 in the \"apple\" feature of z. When you multiply 1 by 0, the result is 0. From the conclusion, we know when the element of the inner product of $\\phi(x)$ and $\\phi(z)$ is 1, it means both x and z contain the word. This is how I can show $k(x, z)=\\phi(x)^T\\phi(z)$."
   ]
  },
  {
   "cell_type": "markdown",
   "metadata": {},
   "source": [
    "### 5.2.a\n",
    "\n",
    "$f(x)f(z)k_1(x,z)$\n",
    "\n",
    "$=f(x)f(z)\\phi(x)^T\\phi(z)$\n",
    "\n",
    "$=(f(x)\\phi(x))^T(f(z)\\phi(z))$\n",
    "\n",
    "$=k(f(x)\\phi(x), f(z)\\phi(z))$, for any function $f(x) \\in \\mathcal{R}$"
   ]
  },
  {
   "cell_type": "markdown",
   "metadata": {},
   "source": [
    "### 5.2.b\n",
    "\n",
    "$k_1(x, z)+k_2(x, z)$\n",
    "\n",
    "$=\\phi(x_1)^T\\phi(z_1) + \\phi(x_2)^T\\phi(z_2)$\n",
    "\n",
    "$=\\phi(X)^T\\phi(Z)=k(\\phi(x), \\phi(Z))$, where $\\phi(x)=(\\phi(x1), \\phi(x2))$; $\\phi(z)=(\\phi(z1), \\phi(z2))$"
   ]
  },
  {
   "cell_type": "markdown",
   "metadata": {},
   "source": [
    "### 5.2.c\n",
    "\n",
    "$k_1(x, z)k_2(x, z)$\n",
    "\n",
    "$=\\Bigg(\\sum_{n=1}^N \\phi_n(x)\\phi_n(z)\\Bigg)\\Bigg(\\sum_{m=1}^M\\phi_m(x)\\phi_m(z)\\Bigg)$\n",
    "\n",
    "$=\\sum_{n=1}^N\\sum_{m=1}^M\\Bigg[\\phi_n(x)^T\\phi_m(x)\\Bigg]\\Bigg[\\phi_n(z)^T\\phi_m(z)\\Bigg]$\n",
    "\n",
    "$=\\sum_{n=1}^N\\sum_{m=1}^Mf(x)_{mn}f(z)_{mn}=f(x)^Tf(z)$"
   ]
  },
  {
   "cell_type": "markdown",
   "metadata": {},
   "source": [
    "### 5.2\n",
    "\n",
    "$\\Bigg(1+\\Bigg(\\frac{x}{||X||}_2\\Bigg)^T\\Bigg(\\frac{z}{||z||}_2\\Bigg)\\Bigg)^3$\n",
    "\n",
    "$=\\Bigg(1+\\Bigg(f_1(x)\\Bigg)^T\\Bigg(f_1(z)\\Bigg)\\Bigg)^3$, from the conclusion of 5.2.a, where $f_1(p)=\\frac{p}{||p||}_2$\n",
    "\n",
    "$=\\Bigg(1+k_1(x, z)\\Bigg)^3$ \n",
    "\n",
    "$=\\Bigg(k_2(x, z)\\Bigg)^3$, from the conclusion of 5.2.b\n",
    "\n",
    "$=k_3(x, z)$, from the conclusion of 5.2.c"
   ]
  },
  {
   "cell_type": "markdown",
   "metadata": {},
   "source": [
    "## 6. Kernel Pegasos"
   ]
  },
  {
   "cell_type": "markdown",
   "metadata": {},
   "source": [
    "### 6.1\n",
    "\n",
    "$y_j\\langle w_{(t)}, x_j \\rangle = y_j\\langle \\sum_{i=1}^n \\alpha_i^{(t)}x_i, x_j \\rangle=y_j\\sum_{i=1}^n \\alpha_i^{(t)}(x_i \\cdot x_j) = y_j\\sum_{i=1}^n \\alpha_i^{(t)}k(x_i, x_j) = y_jK_j\\alpha^{(t)}$\n",
    "\n",
    "where $K_j$ is the $\\mathcal{j}$th row of the kernel matrix $K$ correspoinding to kernel k."
   ]
  },
  {
   "cell_type": "markdown",
   "metadata": {},
   "source": [
    "### 6.2\n",
    "\n",
    "$w^{(t+1)} = (1-\\eta^{(t)}\\lambda)w^{(t)} = (1-\\eta^{(t)}\\lambda)\\sum_{i=1}^n\\alpha_i^{(t)}x_i = \\sum_{i=1}^n (1-\\eta^{(t)}\\lambda) \\alpha_i^{(t)}x_i = \\sum_{i=1}^n \\alpha_i^{(t+1)}x_i$\n",
    "\n",
    "$\\Rightarrow \\alpha_i^{(t+1)} = (1-\\eta^{(t)}\\lambda) \\alpha_i^{(t)}$"
   ]
  },
  {
   "cell_type": "markdown",
   "metadata": {},
   "source": [
    "### 6.3\n",
    "\n",
    "Input: $\\lambda > 0.$ Choose $w_1=0, t=0$\n",
    "\n",
    "While termination condition not met\n",
    "\n",
    "$\\space\\space$For $j=1,...,m$ (assumes data is randomly permuted)\n",
    "\n",
    "$\\space\\space\\space\\space t=t+1$\n",
    "\n",
    "$\\space\\space\\space\\space \\eta^{(t)}=\\frac{1}{(t\\lambda)}$\n",
    "\n",
    "$\\space\\space\\space$ If $y_jK_j\\alpha^{(t)}<1$\n",
    "\n",
    "$\\space\\space\\space\\space\\space\\space\\space\\space a^{(t+1)}=(1-\\eta^{(t)}\\lambda)\\alpha^{(t)}+\\eta^{(t)}y_jx_j$\n",
    "\n",
    "$\\space\\space\\space$ Else\n",
    "\n",
    "$\\space\\space\\space\\space\\space\\space\\space\\space a^{(t+1)}=(1-\\eta^{(t)}\\lambda)\\alpha^{(t)}$"
   ]
  },
  {
   "cell_type": "code",
   "execution_count": null,
   "metadata": {},
   "outputs": [],
   "source": []
  }
 ],
 "metadata": {
  "kernelspec": {
   "display_name": "Python 3",
   "language": "python",
   "name": "python3"
  },
  "language_info": {
   "codemirror_mode": {
    "name": "ipython",
    "version": 3
   },
   "file_extension": ".py",
   "mimetype": "text/x-python",
   "name": "python",
   "nbconvert_exporter": "python",
   "pygments_lexer": "ipython3",
   "version": "3.7.3"
  },
  "latex_envs": {
   "LaTeX_envs_menu_present": true,
   "autoclose": false,
   "autocomplete": true,
   "bibliofile": "biblio.bib",
   "cite_by": "apalike",
   "current_citInitial": 1,
   "eqLabelWithNumbers": true,
   "eqNumInitial": 1,
   "hotkeys": {
    "equation": "Ctrl-E",
    "itemize": "Ctrl-I"
   },
   "labels_anchors": false,
   "latex_user_defs": false,
   "report_style_numbering": false,
   "user_envs_cfg": false
  },
  "varInspector": {
   "cols": {
    "lenName": 16,
    "lenType": 16,
    "lenVar": 40
   },
   "kernels_config": {
    "python": {
     "delete_cmd_postfix": "",
     "delete_cmd_prefix": "del ",
     "library": "var_list.py",
     "varRefreshCmd": "print(var_dic_list())"
    },
    "r": {
     "delete_cmd_postfix": ") ",
     "delete_cmd_prefix": "rm(",
     "library": "var_list.r",
     "varRefreshCmd": "cat(var_dic_list()) "
    }
   },
   "types_to_exclude": [
    "module",
    "function",
    "builtin_function_or_method",
    "instance",
    "_Feature"
   ],
   "window_display": false
  }
 },
 "nbformat": 4,
 "nbformat_minor": 2
}
